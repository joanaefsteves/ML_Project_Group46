{
 "cells": [
  {
   "cell_type": "markdown",
   "metadata": {
    "id": "MqbFmKvxoroF"
   },
   "source": [
    "<div class=\"alert alert-block alert-info\">\n",
    "\n",
    "## <center> GROUP PROJECT - TO GRANT OR NOT TO GRANT: DECIDING ON COMPENSATION BENEFITS </center> <br>\n",
    "#  <center> <b> XGBOOST </center> <br>\n",
    "## <center> Fall Semester 2024-2025 <center>\n",
    "<br>\n",
    "<center> Group 46: <center> <br>\n",
    "<center>Afonso Ascensão, 20240684 <br><center>\n",
    "<center>Duarte Marques, 20240522 <br><center>\n",
    "<center>Joana Esteves, 20240746 <br><center>\n",
    "<center>Rita Serra, 20240515 <br><center>\n",
    "<center>Rodrigo Luís, 20240742 <br><center>\n",
    "\n",
    "<div>"
   ]
  },
  {
   "cell_type": "markdown",
   "metadata": {},
   "source": [
    "**Description of contents:**\n",
    "- Apply pipeline to preprocess the data.\n",
    "- Implement xgboost algorithm, perform tuning of hyperparameters making use of gridsearch.\n",
    "- Assessement of the model using cross validation.\n",
    "- Generate predictions for the test sample.\n",
    "- Optimize the model: adjusting encoding, feature selection strategy and applying resampling strategy with SMOTE."
   ]
  },
  {
   "cell_type": "markdown",
   "metadata": {
    "id": "hMXFdXdzoroI"
   },
   "source": [
    "**Table of Contents**\n",
    "- [1. Import the needed Libraries](#importlibraries)\n",
    "- [2. Import Dataset](#importdataset)\n",
    "- [3. Preprocessing](#section_3)\n",
    "- [4. XGBoost](#section_4)\n",
    "- [5. Optimization](#section_5)\n"
   ]
  },
  {
   "cell_type": "markdown",
   "metadata": {
    "id": "BL9oVLaT6fER"
   },
   "source": [
    "<a class=\"anchor\" id=\"section_1\">\n",
    "\n",
    "# 1. Import Libraries\n",
    "\n",
    "</a>"
   ]
  },
  {
   "cell_type": "code",
   "execution_count": 1,
   "metadata": {
    "colab": {
     "base_uri": "https://localhost:8080/"
    },
    "id": "69HiGJ-s8roW",
    "outputId": "80b74294-f5eb-4daa-d490-0fc7f7897f8b"
   },
   "outputs": [],
   "source": [
    "\n",
    "import pandas as pd\n",
    "import numpy as np\n",
    "\n",
    "# Plots\n",
    "import matplotlib.pyplot as plt\n",
    "\n",
    "# Preprocessing\n",
    "## Pipeline\n",
    "from sklearn.pipeline import Pipeline\n",
    "from joblib import load\n",
    "from transformers import *\n",
    "from sklearn.base import BaseEstimator, TransformerMixin\n",
    "## Target Encoding\n",
    "from sklearn.preprocessing import LabelEncoder\n",
    "\n",
    "# Model algorithm - xgboost\n",
    "from xgboost import XGBClassifier\n",
    "## Weights \n",
    "from sklearn.utils.class_weight import compute_sample_weight\n",
    "\n",
    "# Resampling\n",
    "from imblearn.over_sampling import SMOTE\n",
    "\n",
    "from scipy.stats import chi2_contingency, levene\n",
    "\n",
    "# Evaluation metrics\n",
    "from sklearn.metrics import classification_report, make_scorer, f1_score\n",
    "\n",
    "# Cross validation, parameter tuning\n",
    "from sklearn.model_selection import StratifiedKFold, cross_val_score\n",
    "from itertools import product\n",
    "\n",
    "np.random.seed(42)\n",
    "\n",
    "# Define a seed\n",
    "random_state = 42\n",
    "\n",
    "# Display all rows and columns\n",
    "pd.set_option('display.max_rows', None)\n",
    "pd.set_option(\"display.max_columns\", None)"
   ]
  },
  {
   "cell_type": "markdown",
   "metadata": {
    "id": "WVnubShx6mP0"
   },
   "source": [
    "<a class=\"anchor\" id=\"section_2\">\n",
    "\n",
    "# 2. Import Dataset and Pipeline\n",
    "\n",
    "</a>"
   ]
  },
  {
   "cell_type": "code",
   "execution_count": 2,
   "metadata": {},
   "outputs": [],
   "source": [
    "# Train and validation w/ split, separate X and y to apply preprocessing\n",
    "transformed_train_split = pd.read_parquet(\"transformed_train_split.parquet\")\n",
    "transformed_val_split = pd.read_parquet(\"transformed_val_split.parquet\")\n",
    "\n",
    "# Test set with predicted agreement column, apply preprocessing \n",
    "test_transformed_agreement = pd.read_parquet(\"test_transformed_agreement.parquet\")\n",
    "\n",
    "# Dataset with no split for cross validation, apply pipeline inside cross validation\n",
    "transformed_train_data = pd.read_parquet(\"transformed_train_data.parquet\")"
   ]
  },
  {
   "cell_type": "code",
   "execution_count": 3,
   "metadata": {},
   "outputs": [],
   "source": [
    "# Load pipeline\n",
    "pipeline = load('pipeline.joblib') "
   ]
  },
  {
   "cell_type": "markdown",
   "metadata": {},
   "source": [
    "<a class=\"anchor\" id=\"section_3\">\n",
    "\n",
    "# 3. Preprocessing\n",
    "\n",
    "</a>"
   ]
  },
  {
   "cell_type": "code",
   "execution_count": 4,
   "metadata": {},
   "outputs": [],
   "source": [
    "# Separate X and y for train after split\n",
    "X_train = transformed_train_split.drop(['Claim Injury Type'], axis = 1)\n",
    "y_train = transformed_train_split['Claim Injury Type']\n",
    "y_train = y_train.values.ravel()\n",
    "\n",
    "# Separate X and y for validation after split\n",
    "X_val = transformed_val_split.drop(['Claim Injury Type'], axis = 1)\n",
    "y_val = transformed_val_split['Claim Injury Type']\n",
    "\n",
    "# Separate X and y for dataset before split\n",
    "X = transformed_train_data.drop(['Claim Injury Type'], axis = 1)\n",
    "y = transformed_train_data['Claim Injury Type']"
   ]
  },
  {
   "cell_type": "code",
   "execution_count": 5,
   "metadata": {},
   "outputs": [],
   "source": [
    "# Apply encoding of y for train and validation sets\n",
    "\n",
    "# Initialize target encoder\n",
    "label_encoder = LabelEncoder()\n",
    "\n",
    "# Encode target\n",
    "y_train_encoded = label_encoder.fit_transform(y_train)\n",
    "y_val_encoded = label_encoder.transform(y_val)"
   ]
  },
  {
   "cell_type": "code",
   "execution_count": 6,
   "metadata": {},
   "outputs": [],
   "source": [
    "# Apply preprocessing pipeline to the train, validation and test sets\n",
    "X_train_preprocessed = pipeline.fit_transform(X_train, y_train_encoded)\n",
    "X_val_preprocessed = pipeline.transform(X_val)\n",
    "test_data_preprocessed = pipeline.transform(test_transformed_agreement)"
   ]
  },
  {
   "cell_type": "code",
   "execution_count": 7,
   "metadata": {},
   "outputs": [
    {
     "name": "stdout",
     "output_type": "stream",
     "text": [
      "Selected Features: ['Attorney/Representative' 'Average Weekly Wage Log' 'C-2 Delivered'\n",
      " 'Industry Code' 'Time Assembly to Hearing' 'Hearing Held'\n",
      " 'Agreement Reached' 'C-3 Delivered on Time' 'Part of Body Group_Trunk'\n",
      " 'Part of Body Group_Lower Extremities' 'IME-4 Count Log'\n",
      " 'District Name_NYC' 'Part of Body Group_Upper Extremities' 'Gender'\n",
      " 'Carrier Type_2A. SIF' 'Cause of Injury Group_X' 'Assembly Year'\n",
      " 'Cause of Injury Group_VI']\n"
     ]
    }
   ],
   "source": [
    "print(\"Selected Features:\", X_train_preprocessed.columns.values)"
   ]
  },
  {
   "cell_type": "markdown",
   "metadata": {},
   "source": [
    "<a class=\"anchor\" id=\"section_4\">\n",
    "\n",
    "# 4. XGBoost\n",
    "\n",
    "</a>"
   ]
  },
  {
   "cell_type": "markdown",
   "metadata": {},
   "source": [
    "**Variables for model:**\n",
    "- X_train_preprocessed;\n",
    "- y_train_preprocessed;\n",
    "- X_val_preprocessed;\n",
    "- y_val_encoded;\n",
    "- test_data_preprocessed.\n",
    "\n",
    "**Variables for CV:**\n",
    "- X: no preprocessing and no split;\n",
    "- y: no preprocessing and no split;\n",
    "- Apply pipeline and weights inside cv.\n"
   ]
  },
  {
   "cell_type": "markdown",
   "metadata": {},
   "source": [
    "**Hyperparameter tuning:**"
   ]
  },
  {
   "cell_type": "code",
   "execution_count": 9,
   "metadata": {},
   "outputs": [
    {
     "name": "stdout",
     "output_type": "stream",
     "text": [
      "Best parameters: {'n_estimators': 150, 'max_depth': 10, 'learning_rate': 0.2, 'subsample': 0.7}\n",
      "Best score: 0.42115294710189344\n"
     ]
    }
   ],
   "source": [
    "''' # Perform custom grid search\n",
    "\n",
    "# Initialize model\n",
    "model_xgb = XGBClassifier(objective='multi:softmax', random_state=random_state)\n",
    "\n",
    "# Define parameter grid\n",
    "param_grid = {\n",
    "    'n_estimators': [80, 120, 150],\n",
    "    'max_depth': [6, 8, 10, 12],\n",
    "    'learning_rate': [0.01, 0.1, 0.2],\n",
    "    'subsample': [0.4, 0.7, 0.9]\n",
    "}\n",
    "\n",
    "# Generate all parameter combinations\n",
    "param_grid_list = [\n",
    "    dict(zip(param_grid.keys(), values))\n",
    "    for values in product(*param_grid.values())\n",
    "]\n",
    "\n",
    "# Cross-validation setup\n",
    "kf = StratifiedKFold(n_splits=5, shuffle=True, random_state=random_state)\n",
    "\n",
    "# Initialize target encoder\n",
    "label_encoder = LabelEncoder()\n",
    "\n",
    "scores = []\n",
    "best_params = []\n",
    "\n",
    "for params in param_grid_list:\n",
    "    fold_scores = []\n",
    "    for train_idx, val_idx in kf.split(X, y):\n",
    "        \n",
    "        # Split the data for the current fold\n",
    "        X_train_cv, X_val_cv = X.iloc[train_idx], X.iloc[val_idx]\n",
    "        y_train_cv, y_val_cv = y.iloc[train_idx], y.iloc[val_idx]\n",
    "\n",
    "        # Encode target\n",
    "        y_train_cv_encoded = label_encoder.fit_transform(y_train_cv)\n",
    "        y_val_cv_encoded = label_encoder.transform(y_val_cv)\n",
    "    \n",
    "        # Preprocess training and validation sets\n",
    "        X_train_cv_preprocessed = pipeline.fit_transform(X_train_cv, y_train_cv_encoded)\n",
    "        X_val_cv_preprocessed = pipeline.transform(X_val_cv)\n",
    "    \n",
    "        # Compute sample weights for the training data\n",
    "        train_sample_weights = compute_sample_weight('balanced', y_train_cv_encoded)\n",
    "    \n",
    "        # Initialize model with parameters\n",
    "        model_xgb.set_params(**params)\n",
    "\n",
    "        # Fit model using sample weights\n",
    "        model_xgb.fit(X_train_cv_preprocessed, y_train_cv_encoded, sample_weight=train_sample_weights)\n",
    "        \n",
    "        # Predict and evaluate\n",
    "        y_pred_cv = model_xgb.predict(X_val_cv_preprocessed)\n",
    "        f1 = f1_score(y_val_cv_encoded, y_pred_cv, average='macro')\n",
    "\n",
    "        fold_scores.append(f1)\n",
    "\n",
    "    # Average score for this parameter set\n",
    "    avg_score = np.mean(fold_scores)\n",
    "    scores.append(avg_score)\n",
    "    best_params.append(params)\n",
    "\n",
    "# Get the final best parameters and score\n",
    "best_index = np.argmax(scores)\n",
    "print(\"Best parameters:\", best_params[best_index])\n",
    "# Final assessment score for the selected parameter set\n",
    "print(\"Best score:\", scores[best_index]) '''\n"
   ]
  },
  {
   "cell_type": "markdown",
   "metadata": {},
   "source": [
    "- Best parameters: {'n_estimators': 150, 'max_depth': 10, 'learning_rate': 0.2, 'subsample': 0.7}\n",
    "- Best f1 macro score: 0.42115294710189344"
   ]
  },
  {
   "cell_type": "code",
   "execution_count": 12,
   "metadata": {},
   "outputs": [
    {
     "name": "stdout",
     "output_type": "stream",
     "text": [
      "\n",
      "Classification Report Train Data:\n",
      "               precision    recall  f1-score   support\n",
      "\n",
      "           0   0.290255  0.846647  0.432303     11229\n",
      "           1   0.896576  0.829370  0.861665    261970\n",
      "           2   0.445020  0.400687  0.421691     62016\n",
      "           3   0.898781  0.775244  0.832454    133656\n",
      "           4   0.659387  0.908911  0.764299     43452\n",
      "           5   0.390400  1.000000  0.561565      3790\n",
      "           6   0.977528  1.000000  0.988636        87\n",
      "           7   0.586685  1.000000  0.739510       423\n",
      "\n",
      "    accuracy                       0.772393    516623\n",
      "   macro avg   0.643079  0.845107  0.700265    516623\n",
      "weighted avg   0.805860  0.772393  0.781491    516623\n",
      "\n",
      "\n",
      "Classification Report Validation Data:\n",
      "               precision    recall  f1-score   support\n",
      "\n",
      "           0   0.244222  0.702724  0.362472      1248\n",
      "           1   0.884784  0.819431  0.850854     29108\n",
      "           2   0.308253  0.269956  0.287837      6890\n",
      "           3   0.816217  0.709649  0.759212     14851\n",
      "           4   0.546589  0.761806  0.636497      4828\n",
      "           5   0.107143  0.277910  0.154660       421\n",
      "           6   0.000000  0.000000  0.000000        10\n",
      "           7   0.261905  0.468085  0.335878        47\n",
      "\n",
      "    accuracy                       0.713290     57403\n",
      "   macro avg   0.396139  0.501195  0.423426     57403\n",
      "weighted avg   0.749106  0.713290  0.725244     57403\n",
      "\n"
     ]
    }
   ],
   "source": [
    "''' # Model with grid search best parameters\n",
    "# Compute weights for each sample\n",
    "weights = compute_sample_weight('balanced', y_train_encoded)\n",
    "\n",
    "model_xgbc_gs = XGBClassifier(\n",
    "                           objective='multi:softmax',\n",
    "                           n_estimators = 150,\n",
    "                           max_depth = 10,\n",
    "                           learning_rate = 0.2,\n",
    "                           subsample = 0.7,\n",
    "                           random_state = random_state\n",
    "                           )\n",
    "\n",
    "# Fit to train data\n",
    "model_xgbc_gs.fit(X_train_preprocessed, y_train_encoded, sample_weight=weights)\n",
    "\n",
    "y_pred_train = model_xgbc_gs.predict(X_train_preprocessed)\n",
    "# Make predictions on validation data\n",
    "y_pred_val = model_xgbc_gs.predict(X_val_preprocessed)\n",
    "\n",
    "print(\"\\nClassification Report Train Data:\\n\", classification_report(y_train_encoded, y_pred_train, digits=6))\n",
    "print(\"\\nClassification Report Validation Data:\\n\", classification_report(y_val_encoded, y_pred_val, digits=6)) '''"
   ]
  },
  {
   "cell_type": "markdown",
   "metadata": {},
   "source": [
    "- The results show the your model is overfitting, as the performance on the training data (f1 macro 0.7) is significantly better than on the validation data (f1 macro 0.42).\n",
    "- The model is not predicting class 6.\n",
    "- We will reduce learning rate to try to capture more complex patterns and predict class 6, this can also help with overfitting.\n",
    "- We will remove the parameter subsample = 0.7, because we have very few observations for class 6 and 7."
   ]
  },
  {
   "cell_type": "code",
   "execution_count": 8,
   "metadata": {},
   "outputs": [
    {
     "name": "stdout",
     "output_type": "stream",
     "text": [
      "\n",
      "Classification Report Train Data:\n",
      "               precision    recall  f1-score   support\n",
      "\n",
      "           0   0.258441  0.684389  0.375198     11229\n",
      "           1   0.862969  0.826117  0.844141    261970\n",
      "           2   0.294495  0.217476  0.250192     62016\n",
      "           3   0.855020  0.508754  0.637928    133656\n",
      "           4   0.504932  0.766892  0.608934     43452\n",
      "           5   0.091479  0.816887  0.164532      3790\n",
      "           6   0.027549  1.000000  0.053621        87\n",
      "           7   0.053971  0.992908  0.102377       423\n",
      "\n",
      "    accuracy                       0.662986    516623\n",
      "   macro avg   0.368607  0.726678  0.379615    516623\n",
      "weighted avg   0.742956  0.662986  0.683792    516623\n",
      "\n",
      "\n",
      "Classification Report Validation Data:\n",
      "               precision    recall  f1-score   support\n",
      "\n",
      "           0   0.261434  0.677885  0.377342      1248\n",
      "           1   0.859822  0.825203  0.842157     29108\n",
      "           2   0.278006  0.206386  0.236901      6890\n",
      "           3   0.840950  0.503064  0.629534     14851\n",
      "           4   0.486210  0.748550  0.589511      4828\n",
      "           5   0.070210  0.596200  0.125626       421\n",
      "           6   0.002770  0.100000  0.005391        10\n",
      "           7   0.047509  0.872340  0.090110        47\n",
      "\n",
      "    accuracy                       0.656168     57403\n",
      "   macro avg   0.355864  0.566203  0.362072     57403\n",
      "weighted avg   0.734067  0.656168  0.677129     57403\n",
      "\n"
     ]
    }
   ],
   "source": [
    "# Compute weights for each sample\n",
    "weights = compute_sample_weight('balanced', y_train_encoded)\n",
    "\n",
    "model_xgbc_tuned = XGBClassifier(\n",
    "                           objective='multi:softmax',\n",
    "                           n_estimators = 150,\n",
    "                           max_depth = 10,\n",
    "                           learning_rate = 0.01,\n",
    "                           random_state = random_state\n",
    "                           )\n",
    "\n",
    "# Fit to train data\n",
    "model_xgbc_tuned.fit(X_train_preprocessed, y_train_encoded, sample_weight=weights)\n",
    "\n",
    "y_pred_train = model_xgbc_tuned.predict(X_train_preprocessed)\n",
    "# Make predictions on validation data\n",
    "y_pred_val = model_xgbc_tuned.predict(X_val_preprocessed)\n",
    "\n",
    "print(\"\\nClassification Report Train Data:\\n\", classification_report(y_train_encoded, y_pred_train, digits=6))\n",
    "print(\"\\nClassification Report Validation Data:\\n\", classification_report(y_val_encoded, y_pred_val, digits=6))"
   ]
  },
  {
   "cell_type": "markdown",
   "metadata": {},
   "source": [
    "- F1 macro score decreased but now the model generalizes better and is making predictions for class 6.\n",
    "- The f1 score for class 6 and 7 is still very low."
   ]
  },
  {
   "cell_type": "markdown",
   "metadata": {},
   "source": [
    "**Cross-validation w/ 5 splits for final assessement of the model with selected hyperparameters:**"
   ]
  },
  {
   "cell_type": "code",
   "execution_count": 10,
   "metadata": {},
   "outputs": [
    {
     "name": "stdout",
     "output_type": "stream",
     "text": [
      "Cross-validation scores (F1-macro): [0.36604599 0.36080172 0.36454161 0.36297114 0.36351045]\n",
      "Mean CV score: 0.36357418367675126\n"
     ]
    }
   ],
   "source": [
    "# Cross-validation\n",
    "kf = StratifiedKFold(n_splits=5, shuffle=True, random_state=random_state)\n",
    "\n",
    "# Encode the target \n",
    "label_encoder = LabelEncoder()\n",
    "y_encoded = label_encoder.fit_transform(y)\n",
    "\n",
    "# Store scores for each fold\n",
    "cv_scores = []\n",
    "\n",
    "for train_idx, val_idx in kf.split(X, y_encoded):\n",
    "    \n",
    "    # Data for the current split\n",
    "    X_train_cv, X_val_cv = X.iloc[train_idx], X.iloc[val_idx]\n",
    "    y_train_cv, y_val_cv = y_encoded[train_idx], y_encoded[val_idx]\n",
    "\n",
    "    # Preprocess training and validation sets\n",
    "    X_train_cv_preprocessed = pipeline.fit_transform(X_train_cv, y_train_cv)\n",
    "    X_val_cv_preprocessed = pipeline.transform(X_val_cv)\n",
    "\n",
    "    # Compute sample weights for the training data\n",
    "    train_sample_weights = compute_sample_weight('balanced', y_train_cv)\n",
    "\n",
    "    # Fit the predefined model\n",
    "    model_xgbc_tuned.fit(X_train_cv_preprocessed, y_train_cv, sample_weight=train_sample_weights)\n",
    "\n",
    "    # Predict and evaluate\n",
    "    y_pred_cv = model_xgbc_tuned.predict(X_val_cv_preprocessed)\n",
    "    f1 = f1_score(y_val_cv, y_pred_cv, average='macro')\n",
    "\n",
    "    cv_scores.append(f1)\n",
    "\n",
    "# Convert scores to a NumPy array for easier calculations\n",
    "cv_scores = np.array(cv_scores)\n",
    "\n",
    "# Print the results\n",
    "print(\"Cross-validation scores (F1-macro):\", cv_scores)\n",
    "print(\"Mean CV score:\", cv_scores.mean())"
   ]
  },
  {
   "cell_type": "markdown",
   "metadata": {},
   "source": [
    "- Mean CV f1 macro: 0.36357418367675126\n",
    "- The value is consistent across folds which indicates the model generalizes well.\n",
    "- This value will be compared with the other models mean cv scores to select the best model."
   ]
  },
  {
   "cell_type": "markdown",
   "metadata": {},
   "source": [
    "**Predictions for test set using all incial train data:**"
   ]
  },
  {
   "cell_type": "code",
   "execution_count": null,
   "metadata": {},
   "outputs": [],
   "source": [
    "# Encode target\n",
    "y_encoded = label_encoder.fit_transform(y)\n",
    "\n",
    "# Compute weights for each sample\n",
    "weights = compute_sample_weight('balanced', y_encoded)\n",
    "\n",
    "# Fit pipeline on X and apply tranformations\n",
    "X_preprocessed = pipeline.fit_transform(X, y_encoded)\n",
    "\n",
    "# Apply pipeline fitted on X\n",
    "test_data_preprocessed_X = pipeline.transform(test_transformed_agreement)\n",
    "\n",
    "# Fit on X \n",
    "model_xgbc_tuned.fit(X_preprocessed,y_encoded, sample_weight=weights)\n",
    "\n",
    "# Make predictions on test data\n",
    "y_pred = model_xgbc_tuned.predict(test_data_preprocessed_X)\n",
    "\n",
    "# Get original y for submission\n",
    "y_pred_categorical = label_encoder.inverse_transform(y_pred) \n",
    "\n",
    "submission = pd.DataFrame({\n",
    "    \"Claim Identifier\": test_data_preprocessed_X.index,\n",
    "    \"Claim Injury Type\": y_pred_categorical\n",
    "})\n",
    "\n",
    "\n",
    "# Save to CSV to upload on kaggle\n",
    "submission.to_csv(\"Group46_versionX.csv\", index=False)"
   ]
  },
  {
   "cell_type": "markdown",
   "metadata": {},
   "source": [
    "- Kaggle f1 macro score from test: 0.24312"
   ]
  },
  {
   "cell_type": "markdown",
   "metadata": {},
   "source": [
    "<a class=\"anchor\" id=\"section_5\">\n",
    "\n",
    "# 5. Optimization\n",
    "\n",
    "</a>"
   ]
  },
  {
   "cell_type": "markdown",
   "metadata": {},
   "source": [
    "**Preprocessing: adapt feature selection strategy and encoding:**"
   ]
  },
  {
   "cell_type": "code",
   "execution_count": 14,
   "metadata": {},
   "outputs": [],
   "source": [
    "# Feature selection tranformer\n",
    "class FeatureSelectionTransformerXGBOOST(BaseEstimator, TransformerMixin):\n",
    "    def __init__(self,levene_threshold=0.05, cramers_v_threshold=0.02, lasso_alpha=0.01, tree_threshold=0.01, xgb_threshold=0.01):\n",
    "        self.levene_threshold = levene_threshold\n",
    "        self.cramers_v_threshold = cramers_v_threshold\n",
    "        self.lasso_alpha = lasso_alpha\n",
    "        self.tree_threshold = tree_threshold\n",
    "        self.xgb_threshold = xgb_threshold\n",
    "        self.selected_features = []\n",
    "\n",
    "    def fit(self, X, y):\n",
    "        X_copy = X.copy()\n",
    "\n",
    "        metric_features=['Age at Injury', 'Average Weekly Wage', 'Carrier Name',\n",
    "       'County of Injury', 'IME-4 Count',\n",
    "       'Industry Code', 'Number of Dependents',\n",
    "       'Accident Year', 'Assembly Year',\n",
    "       'Average Weekly Wage Log', 'IME-4 Count Log',\n",
    "       'Time Accident to Assembly', 'Time Assembly to Hearing',\n",
    "       'Wage Age Ratio']\n",
    "        \n",
    "        X_cat = X_copy.drop(columns = metric_features)\n",
    "        X_num = X_copy[metric_features]\n",
    "        X_cat = X_cat.astype('int64')\n",
    "\n",
    "        # 1. Remove features based on redundancy and irrelevance - filter methods\n",
    "\n",
    "        # Levene's Test Function\n",
    "        def levene_test(x, y):\n",
    "            results = {}\n",
    "            for column in x.columns:\n",
    "                y_train_encoded_series = pd.Series(y,index= x.index)\n",
    "                groups = [x[column][y_train_encoded_series == category] \n",
    "                        for category in y_train_encoded_series.unique()]\n",
    "                stat, p_value = levene(*groups)\n",
    "                results[column] = (stat, p_value)  # Armazena o resultado da coluna\n",
    "            \n",
    "            return results\n",
    "\n",
    "        # Perform Levene's Test for each feature in X_num\n",
    "        levene_results = levene_test(X_num, y)\n",
    "\n",
    "        # Remove irrelevant features with p-value > 0.05\n",
    "        insignificant_features =[col for col, (_, p_value) in levene_results.items() \n",
    "                          if p_value > self.levene_threshold]\n",
    " \n",
    "        # Previously selected numeric features redundant or with very low variance\n",
    "        features_to_drop = [ \"Average Weekly Wage\", \"IME-4 Count\", \"Accident Year\", \n",
    "        \"Wage Age Ratio\"]\n",
    "        for col in insignificant_features:\n",
    "            if col not in features_to_drop:\n",
    "                features_to_drop.append(col)\n",
    "\n",
    "        \n",
    "        # Cramér's V Function\n",
    "        def cramers_v(x, y):\n",
    "            contingency = pd.crosstab(x, y).values\n",
    "            chi2 = chi2_contingency(contingency, correction=False)[0]\n",
    "            n = contingency.sum()\n",
    "            r, k = contingency.shape\n",
    "            return np.sqrt(chi2 / (n * (min(r, k) - 1)))    \n",
    "\n",
    "        # Check correlation of redundant categoric features and target\n",
    "        redundant_pairs = [('C-3 Delivered', 'C-3 Delivered on Time'),\n",
    "                           ('C-2 Delivered', 'C-2 Delivered on Time'),\n",
    "                           ('COVID-19 Indicator', 'Covid OR altr dispute'),\n",
    "                           ('Attorney/Representative', 'At/rp OR altr dispute'),\n",
    "                           ('Attorney/Representative', 'Covid OR At/rp')]\n",
    "\n",
    "        # Remove redundant features based on correlation w/ target\n",
    "        for pair in redundant_pairs:\n",
    "            feature_1, feature_2 = pair\n",
    "            v1 = cramers_v(X_copy[feature_1], y)\n",
    "            v2 = cramers_v(X_copy[feature_2], y)\n",
    "            if v1 < v2:\n",
    "                features_to_drop.append(feature_1)\n",
    "            else:\n",
    "                features_to_drop.append(feature_2)\n",
    "\n",
    "        X_copy.drop(columns=features_to_drop, inplace=True)\n",
    "\n",
    "        # Remove irrelevant categoric features with a cramers v below 0.02\n",
    "        low_v_features = []\n",
    "        for col in X_cat.columns:\n",
    "            if col in X_copy.columns: \n",
    "                v = cramers_v(X_copy[col], y)\n",
    "                if v < self.cramers_v_threshold:\n",
    "                    low_v_features.append(col)\n",
    "        X_copy.drop(columns=low_v_features, inplace=True)\n",
    "\n",
    "        # 3. XGBoost Ranking\n",
    "        xgb = XGBClassifier()\n",
    "        xgb.fit(X_copy, y)\n",
    "        xgb_importance = pd.Series(xgb.feature_importances_, index=X_copy.columns)\n",
    "        xgb_rank = xgb_importance[xgb_importance > self.xgb_threshold].rank(ascending=False).reset_index()\n",
    "        xgb_rank.columns = ['Feature', 'Rank_xgboost']\n",
    "\n",
    "        # Get selected features\n",
    "        self.selected_features = xgb_rank.sort_values(by='Rank_xgboost', ascending=True)['Feature'].tolist()\n",
    "\n",
    "        return self \n",
    "\n",
    "    def transform(self, X):\n",
    "        return X[self.selected_features] \n",
    "    \n",
    "# Encoding Transformer\n",
    "class EncodingTransformerXGBOOST(BaseEstimator, TransformerMixin):\n",
    "    def __init__(self):\n",
    "        self.categoric_cols = [\"Carrier Type\", \n",
    "                                     \"District Name\", \n",
    "                                     \"Medical Fee Region\",\n",
    "                                     \"Nature of Injury Group\", \n",
    "                                     \"Part of Body Group\", \n",
    "                                     \"Cause of Injury Group\",\n",
    "                                     \"Carrier Name\", \n",
    "                                      \"County of Injury\",\n",
    "                                      \"Industry Code\"]\n",
    "\n",
    "        self.freq_encoder = None\n",
    "\n",
    "    def fit(self, X, y=None):\n",
    "        X = X.copy()\n",
    "\n",
    "        self.freq_encoder = {col: X[col].value_counts().to_dict() for col in self.categoric_cols}\n",
    "\n",
    "        return self\n",
    "    \n",
    "    def transform(self, X):\n",
    "        X = X.copy()\n",
    "\n",
    "        # Encode boolean features as int\n",
    "        bool_cols = X.select_dtypes(include='bool').columns\n",
    "        X[bool_cols] = X[bool_cols].astype(int)\n",
    "\n",
    "        # Frequency encoder\n",
    "        for col, mapping in self.freq_encoder.items():\n",
    "            X[col] = X[col].map(mapping).fillna(0) # Fill nan w/ 0 (unseen categories)\n",
    "        \n",
    "        return X"
   ]
  },
  {
   "cell_type": "code",
   "execution_count": 15,
   "metadata": {},
   "outputs": [],
   "source": [
    "pipeline_steps = pipeline.steps\n",
    "\n",
    "# Replace encoding transformer\n",
    "pipeline_steps[4] = ('encoding_xgboost', EncodingTransformerXGBOOST()) \n",
    "# Replace feature selection (index 6) with xgboost feature selection tranformer\n",
    "pipeline_steps[6] = ('feature_selection_xgboost', FeatureSelectionTransformerXGBOOST()) \n",
    "\n",
    "opt_pipeline = Pipeline(pipeline_steps)"
   ]
  },
  {
   "cell_type": "code",
   "execution_count": 16,
   "metadata": {},
   "outputs": [
    {
     "ename": "KeyboardInterrupt",
     "evalue": "",
     "output_type": "error",
     "traceback": [
      "\u001b[0;31m---------------------------------------------------------------------------\u001b[0m",
      "\u001b[0;31mKeyboardInterrupt\u001b[0m                         Traceback (most recent call last)",
      "Cell \u001b[0;32mIn[16], line 3\u001b[0m\n\u001b[1;32m      1\u001b[0m \u001b[38;5;66;03m# Apply new pipeline \u001b[39;00m\n\u001b[0;32m----> 3\u001b[0m X_train_preprocessed_opt \u001b[38;5;241m=\u001b[39m \u001b[43mopt_pipeline\u001b[49m\u001b[38;5;241;43m.\u001b[39;49m\u001b[43mfit_transform\u001b[49m\u001b[43m(\u001b[49m\u001b[43mX_train\u001b[49m\u001b[43m,\u001b[49m\u001b[43m \u001b[49m\u001b[43my_train_encoded\u001b[49m\u001b[43m)\u001b[49m\n\u001b[1;32m      4\u001b[0m X_val_preprocessed_opt \u001b[38;5;241m=\u001b[39m opt_pipeline\u001b[38;5;241m.\u001b[39mtransform(X_val)\n\u001b[1;32m      5\u001b[0m test_data_preprocessed_opt \u001b[38;5;241m=\u001b[39m opt_pipeline\u001b[38;5;241m.\u001b[39mtransform(test_transformed_agreement)\n",
      "File \u001b[0;32m~/.ml_project/lib/python3.12/site-packages/sklearn/base.py:1473\u001b[0m, in \u001b[0;36m_fit_context.<locals>.decorator.<locals>.wrapper\u001b[0;34m(estimator, *args, **kwargs)\u001b[0m\n\u001b[1;32m   1466\u001b[0m     estimator\u001b[38;5;241m.\u001b[39m_validate_params()\n\u001b[1;32m   1468\u001b[0m \u001b[38;5;28;01mwith\u001b[39;00m config_context(\n\u001b[1;32m   1469\u001b[0m     skip_parameter_validation\u001b[38;5;241m=\u001b[39m(\n\u001b[1;32m   1470\u001b[0m         prefer_skip_nested_validation \u001b[38;5;129;01mor\u001b[39;00m global_skip_validation\n\u001b[1;32m   1471\u001b[0m     )\n\u001b[1;32m   1472\u001b[0m ):\n\u001b[0;32m-> 1473\u001b[0m     \u001b[38;5;28;01mreturn\u001b[39;00m \u001b[43mfit_method\u001b[49m\u001b[43m(\u001b[49m\u001b[43mestimator\u001b[49m\u001b[43m,\u001b[49m\u001b[43m \u001b[49m\u001b[38;5;241;43m*\u001b[39;49m\u001b[43margs\u001b[49m\u001b[43m,\u001b[49m\u001b[43m \u001b[49m\u001b[38;5;241;43m*\u001b[39;49m\u001b[38;5;241;43m*\u001b[39;49m\u001b[43mkwargs\u001b[49m\u001b[43m)\u001b[49m\n",
      "File \u001b[0;32m~/.ml_project/lib/python3.12/site-packages/sklearn/pipeline.py:533\u001b[0m, in \u001b[0;36mPipeline.fit_transform\u001b[0;34m(self, X, y, **params)\u001b[0m\n\u001b[1;32m    490\u001b[0m \u001b[38;5;250m\u001b[39m\u001b[38;5;124;03m\"\"\"Fit the model and transform with the final estimator.\u001b[39;00m\n\u001b[1;32m    491\u001b[0m \n\u001b[1;32m    492\u001b[0m \u001b[38;5;124;03mFit all the transformers one after the other and sequentially transform\u001b[39;00m\n\u001b[0;32m   (...)\u001b[0m\n\u001b[1;32m    530\u001b[0m \u001b[38;5;124;03m    Transformed samples.\u001b[39;00m\n\u001b[1;32m    531\u001b[0m \u001b[38;5;124;03m\"\"\"\u001b[39;00m\n\u001b[1;32m    532\u001b[0m routed_params \u001b[38;5;241m=\u001b[39m \u001b[38;5;28mself\u001b[39m\u001b[38;5;241m.\u001b[39m_check_method_params(method\u001b[38;5;241m=\u001b[39m\u001b[38;5;124m\"\u001b[39m\u001b[38;5;124mfit_transform\u001b[39m\u001b[38;5;124m\"\u001b[39m, props\u001b[38;5;241m=\u001b[39mparams)\n\u001b[0;32m--> 533\u001b[0m Xt \u001b[38;5;241m=\u001b[39m \u001b[38;5;28;43mself\u001b[39;49m\u001b[38;5;241;43m.\u001b[39;49m\u001b[43m_fit\u001b[49m\u001b[43m(\u001b[49m\u001b[43mX\u001b[49m\u001b[43m,\u001b[49m\u001b[43m \u001b[49m\u001b[43my\u001b[49m\u001b[43m,\u001b[49m\u001b[43m \u001b[49m\u001b[43mrouted_params\u001b[49m\u001b[43m)\u001b[49m\n\u001b[1;32m    535\u001b[0m last_step \u001b[38;5;241m=\u001b[39m \u001b[38;5;28mself\u001b[39m\u001b[38;5;241m.\u001b[39m_final_estimator\n\u001b[1;32m    536\u001b[0m \u001b[38;5;28;01mwith\u001b[39;00m _print_elapsed_time(\u001b[38;5;124m\"\u001b[39m\u001b[38;5;124mPipeline\u001b[39m\u001b[38;5;124m\"\u001b[39m, \u001b[38;5;28mself\u001b[39m\u001b[38;5;241m.\u001b[39m_log_message(\u001b[38;5;28mlen\u001b[39m(\u001b[38;5;28mself\u001b[39m\u001b[38;5;241m.\u001b[39msteps) \u001b[38;5;241m-\u001b[39m \u001b[38;5;241m1\u001b[39m)):\n",
      "File \u001b[0;32m~/.ml_project/lib/python3.12/site-packages/sklearn/pipeline.py:406\u001b[0m, in \u001b[0;36mPipeline._fit\u001b[0;34m(self, X, y, routed_params)\u001b[0m\n\u001b[1;32m    404\u001b[0m     cloned_transformer \u001b[38;5;241m=\u001b[39m clone(transformer)\n\u001b[1;32m    405\u001b[0m \u001b[38;5;66;03m# Fit or load from cache the current transformer\u001b[39;00m\n\u001b[0;32m--> 406\u001b[0m X, fitted_transformer \u001b[38;5;241m=\u001b[39m \u001b[43mfit_transform_one_cached\u001b[49m\u001b[43m(\u001b[49m\n\u001b[1;32m    407\u001b[0m \u001b[43m    \u001b[49m\u001b[43mcloned_transformer\u001b[49m\u001b[43m,\u001b[49m\n\u001b[1;32m    408\u001b[0m \u001b[43m    \u001b[49m\u001b[43mX\u001b[49m\u001b[43m,\u001b[49m\n\u001b[1;32m    409\u001b[0m \u001b[43m    \u001b[49m\u001b[43my\u001b[49m\u001b[43m,\u001b[49m\n\u001b[1;32m    410\u001b[0m \u001b[43m    \u001b[49m\u001b[38;5;28;43;01mNone\u001b[39;49;00m\u001b[43m,\u001b[49m\n\u001b[1;32m    411\u001b[0m \u001b[43m    \u001b[49m\u001b[43mmessage_clsname\u001b[49m\u001b[38;5;241;43m=\u001b[39;49m\u001b[38;5;124;43m\"\u001b[39;49m\u001b[38;5;124;43mPipeline\u001b[39;49m\u001b[38;5;124;43m\"\u001b[39;49m\u001b[43m,\u001b[49m\n\u001b[1;32m    412\u001b[0m \u001b[43m    \u001b[49m\u001b[43mmessage\u001b[49m\u001b[38;5;241;43m=\u001b[39;49m\u001b[38;5;28;43mself\u001b[39;49m\u001b[38;5;241;43m.\u001b[39;49m\u001b[43m_log_message\u001b[49m\u001b[43m(\u001b[49m\u001b[43mstep_idx\u001b[49m\u001b[43m)\u001b[49m\u001b[43m,\u001b[49m\n\u001b[1;32m    413\u001b[0m \u001b[43m    \u001b[49m\u001b[43mparams\u001b[49m\u001b[38;5;241;43m=\u001b[39;49m\u001b[43mrouted_params\u001b[49m\u001b[43m[\u001b[49m\u001b[43mname\u001b[49m\u001b[43m]\u001b[49m\u001b[43m,\u001b[49m\n\u001b[1;32m    414\u001b[0m \u001b[43m\u001b[49m\u001b[43m)\u001b[49m\n\u001b[1;32m    415\u001b[0m \u001b[38;5;66;03m# Replace the transformer of the step with the fitted\u001b[39;00m\n\u001b[1;32m    416\u001b[0m \u001b[38;5;66;03m# transformer. This is necessary when loading the transformer\u001b[39;00m\n\u001b[1;32m    417\u001b[0m \u001b[38;5;66;03m# from the cache.\u001b[39;00m\n\u001b[1;32m    418\u001b[0m \u001b[38;5;28mself\u001b[39m\u001b[38;5;241m.\u001b[39msteps[step_idx] \u001b[38;5;241m=\u001b[39m (name, fitted_transformer)\n",
      "File \u001b[0;32m~/.ml_project/lib/python3.12/site-packages/joblib/memory.py:312\u001b[0m, in \u001b[0;36mNotMemorizedFunc.__call__\u001b[0;34m(self, *args, **kwargs)\u001b[0m\n\u001b[1;32m    311\u001b[0m \u001b[38;5;28;01mdef\u001b[39;00m \u001b[38;5;21m__call__\u001b[39m(\u001b[38;5;28mself\u001b[39m, \u001b[38;5;241m*\u001b[39margs, \u001b[38;5;241m*\u001b[39m\u001b[38;5;241m*\u001b[39mkwargs):\n\u001b[0;32m--> 312\u001b[0m     \u001b[38;5;28;01mreturn\u001b[39;00m \u001b[38;5;28;43mself\u001b[39;49m\u001b[38;5;241;43m.\u001b[39;49m\u001b[43mfunc\u001b[49m\u001b[43m(\u001b[49m\u001b[38;5;241;43m*\u001b[39;49m\u001b[43margs\u001b[49m\u001b[43m,\u001b[49m\u001b[43m \u001b[49m\u001b[38;5;241;43m*\u001b[39;49m\u001b[38;5;241;43m*\u001b[39;49m\u001b[43mkwargs\u001b[49m\u001b[43m)\u001b[49m\n",
      "File \u001b[0;32m~/.ml_project/lib/python3.12/site-packages/sklearn/pipeline.py:1310\u001b[0m, in \u001b[0;36m_fit_transform_one\u001b[0;34m(transformer, X, y, weight, message_clsname, message, params)\u001b[0m\n\u001b[1;32m   1308\u001b[0m \u001b[38;5;28;01mwith\u001b[39;00m _print_elapsed_time(message_clsname, message):\n\u001b[1;32m   1309\u001b[0m     \u001b[38;5;28;01mif\u001b[39;00m \u001b[38;5;28mhasattr\u001b[39m(transformer, \u001b[38;5;124m\"\u001b[39m\u001b[38;5;124mfit_transform\u001b[39m\u001b[38;5;124m\"\u001b[39m):\n\u001b[0;32m-> 1310\u001b[0m         res \u001b[38;5;241m=\u001b[39m \u001b[43mtransformer\u001b[49m\u001b[38;5;241;43m.\u001b[39;49m\u001b[43mfit_transform\u001b[49m\u001b[43m(\u001b[49m\u001b[43mX\u001b[49m\u001b[43m,\u001b[49m\u001b[43m \u001b[49m\u001b[43my\u001b[49m\u001b[43m,\u001b[49m\u001b[43m \u001b[49m\u001b[38;5;241;43m*\u001b[39;49m\u001b[38;5;241;43m*\u001b[39;49m\u001b[43mparams\u001b[49m\u001b[38;5;241;43m.\u001b[39;49m\u001b[43mget\u001b[49m\u001b[43m(\u001b[49m\u001b[38;5;124;43m\"\u001b[39;49m\u001b[38;5;124;43mfit_transform\u001b[39;49m\u001b[38;5;124;43m\"\u001b[39;49m\u001b[43m,\u001b[49m\u001b[43m \u001b[49m\u001b[43m{\u001b[49m\u001b[43m}\u001b[49m\u001b[43m)\u001b[49m\u001b[43m)\u001b[49m\n\u001b[1;32m   1311\u001b[0m     \u001b[38;5;28;01melse\u001b[39;00m:\n\u001b[1;32m   1312\u001b[0m         res \u001b[38;5;241m=\u001b[39m transformer\u001b[38;5;241m.\u001b[39mfit(X, y, \u001b[38;5;241m*\u001b[39m\u001b[38;5;241m*\u001b[39mparams\u001b[38;5;241m.\u001b[39mget(\u001b[38;5;124m\"\u001b[39m\u001b[38;5;124mfit\u001b[39m\u001b[38;5;124m\"\u001b[39m, {}))\u001b[38;5;241m.\u001b[39mtransform(\n\u001b[1;32m   1313\u001b[0m             X, \u001b[38;5;241m*\u001b[39m\u001b[38;5;241m*\u001b[39mparams\u001b[38;5;241m.\u001b[39mget(\u001b[38;5;124m\"\u001b[39m\u001b[38;5;124mtransform\u001b[39m\u001b[38;5;124m\"\u001b[39m, {})\n\u001b[1;32m   1314\u001b[0m         )\n",
      "File \u001b[0;32m~/.ml_project/lib/python3.12/site-packages/sklearn/utils/_set_output.py:316\u001b[0m, in \u001b[0;36m_wrap_method_output.<locals>.wrapped\u001b[0;34m(self, X, *args, **kwargs)\u001b[0m\n\u001b[1;32m    314\u001b[0m \u001b[38;5;129m@wraps\u001b[39m(f)\n\u001b[1;32m    315\u001b[0m \u001b[38;5;28;01mdef\u001b[39;00m \u001b[38;5;21mwrapped\u001b[39m(\u001b[38;5;28mself\u001b[39m, X, \u001b[38;5;241m*\u001b[39margs, \u001b[38;5;241m*\u001b[39m\u001b[38;5;241m*\u001b[39mkwargs):\n\u001b[0;32m--> 316\u001b[0m     data_to_wrap \u001b[38;5;241m=\u001b[39m \u001b[43mf\u001b[49m\u001b[43m(\u001b[49m\u001b[38;5;28;43mself\u001b[39;49m\u001b[43m,\u001b[49m\u001b[43m \u001b[49m\u001b[43mX\u001b[49m\u001b[43m,\u001b[49m\u001b[43m \u001b[49m\u001b[38;5;241;43m*\u001b[39;49m\u001b[43margs\u001b[49m\u001b[43m,\u001b[49m\u001b[43m \u001b[49m\u001b[38;5;241;43m*\u001b[39;49m\u001b[38;5;241;43m*\u001b[39;49m\u001b[43mkwargs\u001b[49m\u001b[43m)\u001b[49m\n\u001b[1;32m    317\u001b[0m     \u001b[38;5;28;01mif\u001b[39;00m \u001b[38;5;28misinstance\u001b[39m(data_to_wrap, \u001b[38;5;28mtuple\u001b[39m):\n\u001b[1;32m    318\u001b[0m         \u001b[38;5;66;03m# only wrap the first output for cross decomposition\u001b[39;00m\n\u001b[1;32m    319\u001b[0m         return_tuple \u001b[38;5;241m=\u001b[39m (\n\u001b[1;32m    320\u001b[0m             _wrap_data_with_container(method, data_to_wrap[\u001b[38;5;241m0\u001b[39m], X, \u001b[38;5;28mself\u001b[39m),\n\u001b[1;32m    321\u001b[0m             \u001b[38;5;241m*\u001b[39mdata_to_wrap[\u001b[38;5;241m1\u001b[39m:],\n\u001b[1;32m    322\u001b[0m         )\n",
      "File \u001b[0;32m~/.ml_project/lib/python3.12/site-packages/sklearn/base.py:1101\u001b[0m, in \u001b[0;36mTransformerMixin.fit_transform\u001b[0;34m(self, X, y, **fit_params)\u001b[0m\n\u001b[1;32m   1098\u001b[0m     \u001b[38;5;28;01mreturn\u001b[39;00m \u001b[38;5;28mself\u001b[39m\u001b[38;5;241m.\u001b[39mfit(X, \u001b[38;5;241m*\u001b[39m\u001b[38;5;241m*\u001b[39mfit_params)\u001b[38;5;241m.\u001b[39mtransform(X)\n\u001b[1;32m   1099\u001b[0m \u001b[38;5;28;01melse\u001b[39;00m:\n\u001b[1;32m   1100\u001b[0m     \u001b[38;5;66;03m# fit method of arity 2 (supervised transformation)\u001b[39;00m\n\u001b[0;32m-> 1101\u001b[0m     \u001b[38;5;28;01mreturn\u001b[39;00m \u001b[38;5;28;43mself\u001b[39;49m\u001b[38;5;241;43m.\u001b[39;49m\u001b[43mfit\u001b[49m\u001b[43m(\u001b[49m\u001b[43mX\u001b[49m\u001b[43m,\u001b[49m\u001b[43m \u001b[49m\u001b[43my\u001b[49m\u001b[43m,\u001b[49m\u001b[43m \u001b[49m\u001b[38;5;241;43m*\u001b[39;49m\u001b[38;5;241;43m*\u001b[39;49m\u001b[43mfit_params\u001b[49m\u001b[43m)\u001b[49m\u001b[38;5;241;43m.\u001b[39;49m\u001b[43mtransform\u001b[49m\u001b[43m(\u001b[49m\u001b[43mX\u001b[49m\u001b[43m)\u001b[49m\n",
      "File \u001b[0;32m~/.ml_project/lib/python3.12/site-packages/sklearn/utils/_set_output.py:316\u001b[0m, in \u001b[0;36m_wrap_method_output.<locals>.wrapped\u001b[0;34m(self, X, *args, **kwargs)\u001b[0m\n\u001b[1;32m    314\u001b[0m \u001b[38;5;129m@wraps\u001b[39m(f)\n\u001b[1;32m    315\u001b[0m \u001b[38;5;28;01mdef\u001b[39;00m \u001b[38;5;21mwrapped\u001b[39m(\u001b[38;5;28mself\u001b[39m, X, \u001b[38;5;241m*\u001b[39margs, \u001b[38;5;241m*\u001b[39m\u001b[38;5;241m*\u001b[39mkwargs):\n\u001b[0;32m--> 316\u001b[0m     data_to_wrap \u001b[38;5;241m=\u001b[39m \u001b[43mf\u001b[49m\u001b[43m(\u001b[49m\u001b[38;5;28;43mself\u001b[39;49m\u001b[43m,\u001b[49m\u001b[43m \u001b[49m\u001b[43mX\u001b[49m\u001b[43m,\u001b[49m\u001b[43m \u001b[49m\u001b[38;5;241;43m*\u001b[39;49m\u001b[43margs\u001b[49m\u001b[43m,\u001b[49m\u001b[43m \u001b[49m\u001b[38;5;241;43m*\u001b[39;49m\u001b[38;5;241;43m*\u001b[39;49m\u001b[43mkwargs\u001b[49m\u001b[43m)\u001b[49m\n\u001b[1;32m    317\u001b[0m     \u001b[38;5;28;01mif\u001b[39;00m \u001b[38;5;28misinstance\u001b[39m(data_to_wrap, \u001b[38;5;28mtuple\u001b[39m):\n\u001b[1;32m    318\u001b[0m         \u001b[38;5;66;03m# only wrap the first output for cross decomposition\u001b[39;00m\n\u001b[1;32m    319\u001b[0m         return_tuple \u001b[38;5;241m=\u001b[39m (\n\u001b[1;32m    320\u001b[0m             _wrap_data_with_container(method, data_to_wrap[\u001b[38;5;241m0\u001b[39m], X, \u001b[38;5;28mself\u001b[39m),\n\u001b[1;32m    321\u001b[0m             \u001b[38;5;241m*\u001b[39mdata_to_wrap[\u001b[38;5;241m1\u001b[39m:],\n\u001b[1;32m    322\u001b[0m         )\n",
      "File \u001b[0;32m~/Desktop/MDSAA-DS/S1/Machine Learning/ML Project/transformers.py:101\u001b[0m, in \u001b[0;36mImputeTransformer.transform\u001b[0;34m(self, X)\u001b[0m\n\u001b[1;32m     98\u001b[0m         \u001b[38;5;28;01mreturn\u001b[39;00m row[\u001b[38;5;124m'\u001b[39m\u001b[38;5;124mAverage Weekly Wage\u001b[39m\u001b[38;5;124m'\u001b[39m]\n\u001b[1;32m    100\u001b[0m \u001b[38;5;66;03m# Apply preprocessing with pre-calculated values based on train\u001b[39;00m\n\u001b[0;32m--> 101\u001b[0m X[\u001b[38;5;124m'\u001b[39m\u001b[38;5;124mAverage Weekly Wage\u001b[39m\u001b[38;5;124m'\u001b[39m] \u001b[38;5;241m=\u001b[39m \u001b[43mX\u001b[49m\u001b[38;5;241;43m.\u001b[39;49m\u001b[43mapply\u001b[49m\u001b[43m(\u001b[49m\u001b[43mfill_nan_wage\u001b[49m\u001b[43m,\u001b[49m\u001b[43m \u001b[49m\u001b[43maxis\u001b[49m\u001b[38;5;241;43m=\u001b[39;49m\u001b[38;5;241;43m1\u001b[39;49m\u001b[43m)\u001b[49m\n\u001b[1;32m    103\u001b[0m \u001b[38;5;66;03m# Calculate 'Age at Injury' when accident year and birth year are available\u001b[39;00m\n\u001b[1;32m    104\u001b[0m X[\u001b[38;5;124m'\u001b[39m\u001b[38;5;124mAge at Injury\u001b[39m\u001b[38;5;124m'\u001b[39m] \u001b[38;5;241m=\u001b[39m np\u001b[38;5;241m.\u001b[39mwhere(\n\u001b[1;32m    105\u001b[0m     X[\u001b[38;5;124m'\u001b[39m\u001b[38;5;124mAccident Year\u001b[39m\u001b[38;5;124m'\u001b[39m]\u001b[38;5;241m.\u001b[39mnotna() \u001b[38;5;241m&\u001b[39m X[\u001b[38;5;124m'\u001b[39m\u001b[38;5;124mBirth Year\u001b[39m\u001b[38;5;124m'\u001b[39m]\u001b[38;5;241m.\u001b[39mnotna(),\n\u001b[1;32m    106\u001b[0m     (X[\u001b[38;5;124m'\u001b[39m\u001b[38;5;124mAccident Year\u001b[39m\u001b[38;5;124m'\u001b[39m] \u001b[38;5;241m-\u001b[39m X[\u001b[38;5;124m'\u001b[39m\u001b[38;5;124mBirth Year\u001b[39m\u001b[38;5;124m'\u001b[39m])\u001b[38;5;241m.\u001b[39mastype(\u001b[38;5;124m'\u001b[39m\u001b[38;5;124mInt64\u001b[39m\u001b[38;5;124m'\u001b[39m),\n\u001b[1;32m    107\u001b[0m     X[\u001b[38;5;124m'\u001b[39m\u001b[38;5;124mAge at Injury\u001b[39m\u001b[38;5;124m'\u001b[39m]\n\u001b[1;32m    108\u001b[0m )\n",
      "File \u001b[0;32m~/.ml_project/lib/python3.12/site-packages/pandas/core/frame.py:10374\u001b[0m, in \u001b[0;36mDataFrame.apply\u001b[0;34m(self, func, axis, raw, result_type, args, by_row, engine, engine_kwargs, **kwargs)\u001b[0m\n\u001b[1;32m  10360\u001b[0m \u001b[38;5;28;01mfrom\u001b[39;00m \u001b[38;5;21;01mpandas\u001b[39;00m\u001b[38;5;21;01m.\u001b[39;00m\u001b[38;5;21;01mcore\u001b[39;00m\u001b[38;5;21;01m.\u001b[39;00m\u001b[38;5;21;01mapply\u001b[39;00m \u001b[38;5;28;01mimport\u001b[39;00m frame_apply\n\u001b[1;32m  10362\u001b[0m op \u001b[38;5;241m=\u001b[39m frame_apply(\n\u001b[1;32m  10363\u001b[0m     \u001b[38;5;28mself\u001b[39m,\n\u001b[1;32m  10364\u001b[0m     func\u001b[38;5;241m=\u001b[39mfunc,\n\u001b[0;32m   (...)\u001b[0m\n\u001b[1;32m  10372\u001b[0m     kwargs\u001b[38;5;241m=\u001b[39mkwargs,\n\u001b[1;32m  10373\u001b[0m )\n\u001b[0;32m> 10374\u001b[0m \u001b[38;5;28;01mreturn\u001b[39;00m \u001b[43mop\u001b[49m\u001b[38;5;241;43m.\u001b[39;49m\u001b[43mapply\u001b[49m\u001b[43m(\u001b[49m\u001b[43m)\u001b[49m\u001b[38;5;241m.\u001b[39m__finalize__(\u001b[38;5;28mself\u001b[39m, method\u001b[38;5;241m=\u001b[39m\u001b[38;5;124m\"\u001b[39m\u001b[38;5;124mapply\u001b[39m\u001b[38;5;124m\"\u001b[39m)\n",
      "File \u001b[0;32m~/.ml_project/lib/python3.12/site-packages/pandas/core/apply.py:916\u001b[0m, in \u001b[0;36mFrameApply.apply\u001b[0;34m(self)\u001b[0m\n\u001b[1;32m    913\u001b[0m \u001b[38;5;28;01melif\u001b[39;00m \u001b[38;5;28mself\u001b[39m\u001b[38;5;241m.\u001b[39mraw:\n\u001b[1;32m    914\u001b[0m     \u001b[38;5;28;01mreturn\u001b[39;00m \u001b[38;5;28mself\u001b[39m\u001b[38;5;241m.\u001b[39mapply_raw(engine\u001b[38;5;241m=\u001b[39m\u001b[38;5;28mself\u001b[39m\u001b[38;5;241m.\u001b[39mengine, engine_kwargs\u001b[38;5;241m=\u001b[39m\u001b[38;5;28mself\u001b[39m\u001b[38;5;241m.\u001b[39mengine_kwargs)\n\u001b[0;32m--> 916\u001b[0m \u001b[38;5;28;01mreturn\u001b[39;00m \u001b[38;5;28;43mself\u001b[39;49m\u001b[38;5;241;43m.\u001b[39;49m\u001b[43mapply_standard\u001b[49m\u001b[43m(\u001b[49m\u001b[43m)\u001b[49m\n",
      "File \u001b[0;32m~/.ml_project/lib/python3.12/site-packages/pandas/core/apply.py:1063\u001b[0m, in \u001b[0;36mFrameApply.apply_standard\u001b[0;34m(self)\u001b[0m\n\u001b[1;32m   1061\u001b[0m \u001b[38;5;28;01mdef\u001b[39;00m \u001b[38;5;21mapply_standard\u001b[39m(\u001b[38;5;28mself\u001b[39m):\n\u001b[1;32m   1062\u001b[0m     \u001b[38;5;28;01mif\u001b[39;00m \u001b[38;5;28mself\u001b[39m\u001b[38;5;241m.\u001b[39mengine \u001b[38;5;241m==\u001b[39m \u001b[38;5;124m\"\u001b[39m\u001b[38;5;124mpython\u001b[39m\u001b[38;5;124m\"\u001b[39m:\n\u001b[0;32m-> 1063\u001b[0m         results, res_index \u001b[38;5;241m=\u001b[39m \u001b[38;5;28;43mself\u001b[39;49m\u001b[38;5;241;43m.\u001b[39;49m\u001b[43mapply_series_generator\u001b[49m\u001b[43m(\u001b[49m\u001b[43m)\u001b[49m\n\u001b[1;32m   1064\u001b[0m     \u001b[38;5;28;01melse\u001b[39;00m:\n\u001b[1;32m   1065\u001b[0m         results, res_index \u001b[38;5;241m=\u001b[39m \u001b[38;5;28mself\u001b[39m\u001b[38;5;241m.\u001b[39mapply_series_numba()\n",
      "File \u001b[0;32m~/.ml_project/lib/python3.12/site-packages/pandas/core/apply.py:1081\u001b[0m, in \u001b[0;36mFrameApply.apply_series_generator\u001b[0;34m(self)\u001b[0m\n\u001b[1;32m   1078\u001b[0m \u001b[38;5;28;01mwith\u001b[39;00m option_context(\u001b[38;5;124m\"\u001b[39m\u001b[38;5;124mmode.chained_assignment\u001b[39m\u001b[38;5;124m\"\u001b[39m, \u001b[38;5;28;01mNone\u001b[39;00m):\n\u001b[1;32m   1079\u001b[0m     \u001b[38;5;28;01mfor\u001b[39;00m i, v \u001b[38;5;129;01min\u001b[39;00m \u001b[38;5;28menumerate\u001b[39m(series_gen):\n\u001b[1;32m   1080\u001b[0m         \u001b[38;5;66;03m# ignore SettingWithCopy here in case the user mutates\u001b[39;00m\n\u001b[0;32m-> 1081\u001b[0m         results[i] \u001b[38;5;241m=\u001b[39m \u001b[38;5;28;43mself\u001b[39;49m\u001b[38;5;241;43m.\u001b[39;49m\u001b[43mfunc\u001b[49m\u001b[43m(\u001b[49m\u001b[43mv\u001b[49m\u001b[43m,\u001b[49m\u001b[43m \u001b[49m\u001b[38;5;241;43m*\u001b[39;49m\u001b[38;5;28;43mself\u001b[39;49m\u001b[38;5;241;43m.\u001b[39;49m\u001b[43margs\u001b[49m\u001b[43m,\u001b[49m\u001b[43m \u001b[49m\u001b[38;5;241;43m*\u001b[39;49m\u001b[38;5;241;43m*\u001b[39;49m\u001b[38;5;28;43mself\u001b[39;49m\u001b[38;5;241;43m.\u001b[39;49m\u001b[43mkwargs\u001b[49m\u001b[43m)\u001b[49m\n\u001b[1;32m   1082\u001b[0m         \u001b[38;5;28;01mif\u001b[39;00m \u001b[38;5;28misinstance\u001b[39m(results[i], ABCSeries):\n\u001b[1;32m   1083\u001b[0m             \u001b[38;5;66;03m# If we have a view on v, we need to make a copy because\u001b[39;00m\n\u001b[1;32m   1084\u001b[0m             \u001b[38;5;66;03m#  series_generator will swap out the underlying data\u001b[39;00m\n\u001b[1;32m   1085\u001b[0m             results[i] \u001b[38;5;241m=\u001b[39m results[i]\u001b[38;5;241m.\u001b[39mcopy(deep\u001b[38;5;241m=\u001b[39m\u001b[38;5;28;01mFalse\u001b[39;00m)\n",
      "File \u001b[0;32m~/Desktop/MDSAA-DS/S1/Machine Learning/ML Project/transformers.py:96\u001b[0m, in \u001b[0;36mImputeTransformer.transform.<locals>.fill_nan_wage\u001b[0;34m(row)\u001b[0m\n\u001b[1;32m     94\u001b[0m \u001b[38;5;28;01mdef\u001b[39;00m \u001b[38;5;21mfill_nan_wage\u001b[39m(row):\n\u001b[1;32m     95\u001b[0m     \u001b[38;5;28;01mif\u001b[39;00m pd\u001b[38;5;241m.\u001b[39misnull(row[\u001b[38;5;124m'\u001b[39m\u001b[38;5;124mAverage Weekly Wage\u001b[39m\u001b[38;5;124m'\u001b[39m]):\n\u001b[0;32m---> 96\u001b[0m         \u001b[38;5;28;01mreturn\u001b[39;00m \u001b[38;5;28mself\u001b[39m\u001b[38;5;241m.\u001b[39mwage_medians\u001b[38;5;241m.\u001b[39mget(row[\u001b[38;5;124m'\u001b[39m\u001b[38;5;124mIndustry Code\u001b[39m\u001b[38;5;124m'\u001b[39m], \u001b[38;5;28;43mself\u001b[39;49m\u001b[38;5;241;43m.\u001b[39;49m\u001b[43mwage_medians\u001b[49m\u001b[38;5;241;43m.\u001b[39;49m\u001b[43mmedian\u001b[49m\u001b[43m(\u001b[49m\u001b[43m)\u001b[49m)\n\u001b[1;32m     97\u001b[0m     \u001b[38;5;28;01melse\u001b[39;00m:\n\u001b[1;32m     98\u001b[0m         \u001b[38;5;28;01mreturn\u001b[39;00m row[\u001b[38;5;124m'\u001b[39m\u001b[38;5;124mAverage Weekly Wage\u001b[39m\u001b[38;5;124m'\u001b[39m]\n",
      "File \u001b[0;32m~/.ml_project/lib/python3.12/site-packages/pandas/core/series.py:6559\u001b[0m, in \u001b[0;36mSeries.median\u001b[0;34m(self, axis, skipna, numeric_only, **kwargs)\u001b[0m\n\u001b[1;32m   6551\u001b[0m \u001b[38;5;129m@doc\u001b[39m(make_doc(\u001b[38;5;124m\"\u001b[39m\u001b[38;5;124mmedian\u001b[39m\u001b[38;5;124m\"\u001b[39m, ndim\u001b[38;5;241m=\u001b[39m\u001b[38;5;241m1\u001b[39m))\n\u001b[1;32m   6552\u001b[0m \u001b[38;5;28;01mdef\u001b[39;00m \u001b[38;5;21mmedian\u001b[39m(\n\u001b[1;32m   6553\u001b[0m     \u001b[38;5;28mself\u001b[39m,\n\u001b[0;32m   (...)\u001b[0m\n\u001b[1;32m   6557\u001b[0m     \u001b[38;5;241m*\u001b[39m\u001b[38;5;241m*\u001b[39mkwargs,\n\u001b[1;32m   6558\u001b[0m ):\n\u001b[0;32m-> 6559\u001b[0m     \u001b[38;5;28;01mreturn\u001b[39;00m \u001b[43mNDFrame\u001b[49m\u001b[38;5;241;43m.\u001b[39;49m\u001b[43mmedian\u001b[49m\u001b[43m(\u001b[49m\u001b[38;5;28;43mself\u001b[39;49m\u001b[43m,\u001b[49m\u001b[43m \u001b[49m\u001b[43maxis\u001b[49m\u001b[43m,\u001b[49m\u001b[43m \u001b[49m\u001b[43mskipna\u001b[49m\u001b[43m,\u001b[49m\u001b[43m \u001b[49m\u001b[43mnumeric_only\u001b[49m\u001b[43m,\u001b[49m\u001b[43m \u001b[49m\u001b[38;5;241;43m*\u001b[39;49m\u001b[38;5;241;43m*\u001b[39;49m\u001b[43mkwargs\u001b[49m\u001b[43m)\u001b[49m\n",
      "File \u001b[0;32m~/.ml_project/lib/python3.12/site-packages/pandas/core/generic.py:12431\u001b[0m, in \u001b[0;36mNDFrame.median\u001b[0;34m(self, axis, skipna, numeric_only, **kwargs)\u001b[0m\n\u001b[1;32m  12424\u001b[0m \u001b[38;5;28;01mdef\u001b[39;00m \u001b[38;5;21mmedian\u001b[39m(\n\u001b[1;32m  12425\u001b[0m     \u001b[38;5;28mself\u001b[39m,\n\u001b[1;32m  12426\u001b[0m     axis: Axis \u001b[38;5;241m|\u001b[39m \u001b[38;5;28;01mNone\u001b[39;00m \u001b[38;5;241m=\u001b[39m \u001b[38;5;241m0\u001b[39m,\n\u001b[0;32m   (...)\u001b[0m\n\u001b[1;32m  12429\u001b[0m     \u001b[38;5;241m*\u001b[39m\u001b[38;5;241m*\u001b[39mkwargs,\n\u001b[1;32m  12430\u001b[0m ) \u001b[38;5;241m-\u001b[39m\u001b[38;5;241m>\u001b[39m Series \u001b[38;5;241m|\u001b[39m \u001b[38;5;28mfloat\u001b[39m:\n\u001b[0;32m> 12431\u001b[0m     \u001b[38;5;28;01mreturn\u001b[39;00m \u001b[38;5;28;43mself\u001b[39;49m\u001b[38;5;241;43m.\u001b[39;49m\u001b[43m_stat_function\u001b[49m\u001b[43m(\u001b[49m\n\u001b[1;32m  12432\u001b[0m \u001b[43m        \u001b[49m\u001b[38;5;124;43m\"\u001b[39;49m\u001b[38;5;124;43mmedian\u001b[39;49m\u001b[38;5;124;43m\"\u001b[39;49m\u001b[43m,\u001b[49m\u001b[43m \u001b[49m\u001b[43mnanops\u001b[49m\u001b[38;5;241;43m.\u001b[39;49m\u001b[43mnanmedian\u001b[49m\u001b[43m,\u001b[49m\u001b[43m \u001b[49m\u001b[43maxis\u001b[49m\u001b[43m,\u001b[49m\u001b[43m \u001b[49m\u001b[43mskipna\u001b[49m\u001b[43m,\u001b[49m\u001b[43m \u001b[49m\u001b[43mnumeric_only\u001b[49m\u001b[43m,\u001b[49m\u001b[43m \u001b[49m\u001b[38;5;241;43m*\u001b[39;49m\u001b[38;5;241;43m*\u001b[39;49m\u001b[43mkwargs\u001b[49m\n\u001b[1;32m  12433\u001b[0m \u001b[43m    \u001b[49m\u001b[43m)\u001b[49m\n",
      "File \u001b[0;32m~/.ml_project/lib/python3.12/site-packages/pandas/core/generic.py:12377\u001b[0m, in \u001b[0;36mNDFrame._stat_function\u001b[0;34m(self, name, func, axis, skipna, numeric_only, **kwargs)\u001b[0m\n\u001b[1;32m  12373\u001b[0m nv\u001b[38;5;241m.\u001b[39mvalidate_func(name, (), kwargs)\n\u001b[1;32m  12375\u001b[0m validate_bool_kwarg(skipna, \u001b[38;5;124m\"\u001b[39m\u001b[38;5;124mskipna\u001b[39m\u001b[38;5;124m\"\u001b[39m, none_allowed\u001b[38;5;241m=\u001b[39m\u001b[38;5;28;01mFalse\u001b[39;00m)\n\u001b[0;32m> 12377\u001b[0m \u001b[38;5;28;01mreturn\u001b[39;00m \u001b[38;5;28;43mself\u001b[39;49m\u001b[38;5;241;43m.\u001b[39;49m\u001b[43m_reduce\u001b[49m\u001b[43m(\u001b[49m\n\u001b[1;32m  12378\u001b[0m \u001b[43m    \u001b[49m\u001b[43mfunc\u001b[49m\u001b[43m,\u001b[49m\u001b[43m \u001b[49m\u001b[43mname\u001b[49m\u001b[38;5;241;43m=\u001b[39;49m\u001b[43mname\u001b[49m\u001b[43m,\u001b[49m\u001b[43m \u001b[49m\u001b[43maxis\u001b[49m\u001b[38;5;241;43m=\u001b[39;49m\u001b[43maxis\u001b[49m\u001b[43m,\u001b[49m\u001b[43m \u001b[49m\u001b[43mskipna\u001b[49m\u001b[38;5;241;43m=\u001b[39;49m\u001b[43mskipna\u001b[49m\u001b[43m,\u001b[49m\u001b[43m \u001b[49m\u001b[43mnumeric_only\u001b[49m\u001b[38;5;241;43m=\u001b[39;49m\u001b[43mnumeric_only\u001b[49m\n\u001b[1;32m  12379\u001b[0m \u001b[43m\u001b[49m\u001b[43m)\u001b[49m\n",
      "File \u001b[0;32m~/.ml_project/lib/python3.12/site-packages/pandas/core/series.py:6457\u001b[0m, in \u001b[0;36mSeries._reduce\u001b[0;34m(self, op, name, axis, skipna, numeric_only, filter_type, **kwds)\u001b[0m\n\u001b[1;32m   6452\u001b[0m     \u001b[38;5;66;03m# GH#47500 - change to TypeError to match other methods\u001b[39;00m\n\u001b[1;32m   6453\u001b[0m     \u001b[38;5;28;01mraise\u001b[39;00m \u001b[38;5;167;01mTypeError\u001b[39;00m(\n\u001b[1;32m   6454\u001b[0m         \u001b[38;5;124mf\u001b[39m\u001b[38;5;124m\"\u001b[39m\u001b[38;5;124mSeries.\u001b[39m\u001b[38;5;132;01m{\u001b[39;00mname\u001b[38;5;132;01m}\u001b[39;00m\u001b[38;5;124m does not allow \u001b[39m\u001b[38;5;132;01m{\u001b[39;00mkwd_name\u001b[38;5;132;01m}\u001b[39;00m\u001b[38;5;124m=\u001b[39m\u001b[38;5;132;01m{\u001b[39;00mnumeric_only\u001b[38;5;132;01m}\u001b[39;00m\u001b[38;5;124m \u001b[39m\u001b[38;5;124m\"\u001b[39m\n\u001b[1;32m   6455\u001b[0m         \u001b[38;5;124m\"\u001b[39m\u001b[38;5;124mwith non-numeric dtypes.\u001b[39m\u001b[38;5;124m\"\u001b[39m\n\u001b[1;32m   6456\u001b[0m     )\n\u001b[0;32m-> 6457\u001b[0m \u001b[38;5;28;01mreturn\u001b[39;00m \u001b[43mop\u001b[49m\u001b[43m(\u001b[49m\u001b[43mdelegate\u001b[49m\u001b[43m,\u001b[49m\u001b[43m \u001b[49m\u001b[43mskipna\u001b[49m\u001b[38;5;241;43m=\u001b[39;49m\u001b[43mskipna\u001b[49m\u001b[43m,\u001b[49m\u001b[43m \u001b[49m\u001b[38;5;241;43m*\u001b[39;49m\u001b[38;5;241;43m*\u001b[39;49m\u001b[43mkwds\u001b[49m\u001b[43m)\u001b[49m\n",
      "File \u001b[0;32m~/.ml_project/lib/python3.12/site-packages/pandas/core/nanops.py:147\u001b[0m, in \u001b[0;36mbottleneck_switch.__call__.<locals>.f\u001b[0;34m(values, axis, skipna, **kwds)\u001b[0m\n\u001b[1;32m    145\u001b[0m         result \u001b[38;5;241m=\u001b[39m alt(values, axis\u001b[38;5;241m=\u001b[39maxis, skipna\u001b[38;5;241m=\u001b[39mskipna, \u001b[38;5;241m*\u001b[39m\u001b[38;5;241m*\u001b[39mkwds)\n\u001b[1;32m    146\u001b[0m \u001b[38;5;28;01melse\u001b[39;00m:\n\u001b[0;32m--> 147\u001b[0m     result \u001b[38;5;241m=\u001b[39m \u001b[43malt\u001b[49m\u001b[43m(\u001b[49m\u001b[43mvalues\u001b[49m\u001b[43m,\u001b[49m\u001b[43m \u001b[49m\u001b[43maxis\u001b[49m\u001b[38;5;241;43m=\u001b[39;49m\u001b[43maxis\u001b[49m\u001b[43m,\u001b[49m\u001b[43m \u001b[49m\u001b[43mskipna\u001b[49m\u001b[38;5;241;43m=\u001b[39;49m\u001b[43mskipna\u001b[49m\u001b[43m,\u001b[49m\u001b[43m \u001b[49m\u001b[38;5;241;43m*\u001b[39;49m\u001b[38;5;241;43m*\u001b[39;49m\u001b[43mkwds\u001b[49m\u001b[43m)\u001b[49m\n\u001b[1;32m    149\u001b[0m \u001b[38;5;28;01mreturn\u001b[39;00m result\n",
      "File \u001b[0;32m~/.ml_project/lib/python3.12/site-packages/pandas/core/nanops.py:831\u001b[0m, in \u001b[0;36mnanmedian\u001b[0;34m(values, axis, skipna, mask)\u001b[0m\n\u001b[1;32m    827\u001b[0m         res \u001b[38;5;241m=\u001b[39m _get_empty_reduction_result(values\u001b[38;5;241m.\u001b[39mshape, axis)\n\u001b[1;32m    829\u001b[0m \u001b[38;5;28;01melse\u001b[39;00m:\n\u001b[1;32m    830\u001b[0m     \u001b[38;5;66;03m# otherwise return a scalar value\u001b[39;00m\n\u001b[0;32m--> 831\u001b[0m     res \u001b[38;5;241m=\u001b[39m \u001b[43mget_median\u001b[49m\u001b[43m(\u001b[49m\u001b[43mvalues\u001b[49m\u001b[43m,\u001b[49m\u001b[43m \u001b[49m\u001b[43mmask\u001b[49m\u001b[43m)\u001b[49m \u001b[38;5;28;01mif\u001b[39;00m notempty \u001b[38;5;28;01melse\u001b[39;00m np\u001b[38;5;241m.\u001b[39mnan\n\u001b[1;32m    832\u001b[0m \u001b[38;5;28;01mreturn\u001b[39;00m _wrap_results(res, dtype)\n",
      "File \u001b[0;32m~/.ml_project/lib/python3.12/site-packages/pandas/core/nanops.py:774\u001b[0m, in \u001b[0;36mnanmedian.<locals>.get_median\u001b[0;34m(x, _mask)\u001b[0m\n\u001b[1;32m    771\u001b[0m     \u001b[38;5;28;01mreturn\u001b[39;00m np\u001b[38;5;241m.\u001b[39mnan\n\u001b[1;32m    772\u001b[0m \u001b[38;5;28;01mwith\u001b[39;00m warnings\u001b[38;5;241m.\u001b[39mcatch_warnings():\n\u001b[1;32m    773\u001b[0m     \u001b[38;5;66;03m# Suppress RuntimeWarning about All-NaN slice\u001b[39;00m\n\u001b[0;32m--> 774\u001b[0m     \u001b[43mwarnings\u001b[49m\u001b[38;5;241;43m.\u001b[39;49m\u001b[43mfilterwarnings\u001b[49m\u001b[43m(\u001b[49m\n\u001b[1;32m    775\u001b[0m \u001b[43m        \u001b[49m\u001b[38;5;124;43m\"\u001b[39;49m\u001b[38;5;124;43mignore\u001b[39;49m\u001b[38;5;124;43m\"\u001b[39;49m\u001b[43m,\u001b[49m\u001b[43m \u001b[49m\u001b[38;5;124;43m\"\u001b[39;49m\u001b[38;5;124;43mAll-NaN slice encountered\u001b[39;49m\u001b[38;5;124;43m\"\u001b[39;49m\u001b[43m,\u001b[49m\u001b[43m \u001b[49m\u001b[38;5;167;43;01mRuntimeWarning\u001b[39;49;00m\n\u001b[1;32m    776\u001b[0m \u001b[43m    \u001b[49m\u001b[43m)\u001b[49m\n\u001b[1;32m    777\u001b[0m     res \u001b[38;5;241m=\u001b[39m np\u001b[38;5;241m.\u001b[39mnanmedian(x[_mask])\n\u001b[1;32m    778\u001b[0m \u001b[38;5;28;01mreturn\u001b[39;00m res\n",
      "File \u001b[0;32m/opt/homebrew/Cellar/python@3.12/3.12.2_1/Frameworks/Python.framework/Versions/3.12/lib/python3.12/warnings.py:164\u001b[0m, in \u001b[0;36mfilterwarnings\u001b[0;34m(action, message, category, module, lineno, append)\u001b[0m\n\u001b[1;32m    161\u001b[0m \u001b[38;5;28;01melse\u001b[39;00m:\n\u001b[1;32m    162\u001b[0m     module \u001b[38;5;241m=\u001b[39m \u001b[38;5;28;01mNone\u001b[39;00m\n\u001b[0;32m--> 164\u001b[0m \u001b[43m_add_filter\u001b[49m\u001b[43m(\u001b[49m\u001b[43maction\u001b[49m\u001b[43m,\u001b[49m\u001b[43m \u001b[49m\u001b[43mmessage\u001b[49m\u001b[43m,\u001b[49m\u001b[43m \u001b[49m\u001b[43mcategory\u001b[49m\u001b[43m,\u001b[49m\u001b[43m \u001b[49m\u001b[43mmodule\u001b[49m\u001b[43m,\u001b[49m\u001b[43m \u001b[49m\u001b[43mlineno\u001b[49m\u001b[43m,\u001b[49m\u001b[43m \u001b[49m\u001b[43mappend\u001b[49m\u001b[38;5;241;43m=\u001b[39;49m\u001b[43mappend\u001b[49m\u001b[43m)\u001b[49m\n",
      "File \u001b[0;32m/opt/homebrew/Cellar/python@3.12/3.12.2_1/Frameworks/Python.framework/Versions/3.12/lib/python3.12/warnings.py:189\u001b[0m, in \u001b[0;36m_add_filter\u001b[0;34m(append, *item)\u001b[0m\n\u001b[1;32m    187\u001b[0m         filters\u001b[38;5;241m.\u001b[39mremove(item)\n\u001b[1;32m    188\u001b[0m     \u001b[38;5;28;01mexcept\u001b[39;00m \u001b[38;5;167;01mValueError\u001b[39;00m:\n\u001b[0;32m--> 189\u001b[0m         \u001b[38;5;28;01mpass\u001b[39;00m\n\u001b[1;32m    190\u001b[0m     filters\u001b[38;5;241m.\u001b[39minsert(\u001b[38;5;241m0\u001b[39m, item)\n\u001b[1;32m    191\u001b[0m \u001b[38;5;28;01melse\u001b[39;00m:\n",
      "\u001b[0;31mKeyboardInterrupt\u001b[0m: "
     ]
    }
   ],
   "source": [
    "# Apply new pipeline \n",
    "\n",
    "X_train_preprocessed_opt = opt_pipeline.fit_transform(X_train, y_train_encoded)\n",
    "X_val_preprocessed_opt = opt_pipeline.transform(X_val)\n",
    "test_data_preprocessed_opt = opt_pipeline.transform(test_transformed_agreement)\n",
    "\n",
    "X_train_preprocessed_opt.columns"
   ]
  },
  {
   "cell_type": "code",
   "execution_count": 20,
   "metadata": {},
   "outputs": [
    {
     "data": {
      "image/png": "[encoded data removed]",
      "text/plain": [
       "<Figure size 1200x800 with 1 Axes>"
      ]
     },
     "metadata": {},
     "output_type": "display_data"
    }
   ],
   "source": [
    "ranked_features = ['Attorney/Representative', 'Agreement Reached', 'C-2 Delivered',\n",
    "       'Average Weekly Wage Log', 'Covid OR altr dispute', 'Industry Code',\n",
    "       'Hearing Held', 'Time Assembly to Hearing', 'IME-4 Count Log',\n",
    "       'Part of Body Group', 'C-3 Delivered on Time',\n",
    "       'Alternative Dispute Resolution', 'Assembly Year']\n",
    "\n",
    "# Initialize lists for storing scores\n",
    "train_f1_scores = []\n",
    "val_f1_scores = []\n",
    "\n",
    "# Initialize the XGBoost model\n",
    "xgb = XGBClassifier(random_state=random_state)\n",
    "\n",
    "# Iteratively evaluate with increasing number of features\n",
    "for i in range(1, len(ranked_features) + 1):\n",
    "    selected_features = ranked_features[:i]\n",
    "    \n",
    "    # Fit the model\n",
    "    xgb.fit(X_train_preprocessed_opt[selected_features], y_train_encoded)\n",
    "\n",
    "    # Predictions for train and validation sets\n",
    "    y_train_pred = xgb.predict(X_train_preprocessed_opt[selected_features])\n",
    "    y_val_pred = xgb.predict(X_val_preprocessed_opt[selected_features])\n",
    "    \n",
    "    # Calculate F1 Macro\n",
    "    f1_train = f1_score(y_train_encoded, y_train_pred, average='macro')\n",
    "    f1_val = f1_score(y_val_encoded, y_val_pred, average='macro')\n",
    "\n",
    "    # Append scores to lists\n",
    "    train_f1_scores.append(f1_train)\n",
    "    val_f1_scores.append(f1_val)\n",
    "\n",
    "plt.figure(figsize=(12, 8))\n",
    "\n",
    "# F1 Macro Plot\n",
    "plt.plot(range(1, len(ranked_features) + 1), train_f1_scores, label=\"Train F1 Macro\", linestyle='-', marker='o')\n",
    "plt.plot(range(1, len(ranked_features) + 1), val_f1_scores, label=\"Validation F1 Macro\", linestyle='--', marker='x')\n",
    "\n",
    "plt.xlabel(\"Number of Features\")\n",
    "plt.ylabel(\"Score\")\n",
    "plt.title(\"F1 Macro vs Number of Features\")\n",
    "plt.legend()\n",
    "plt.grid(True)\n",
    "\n",
    "plt.tight_layout()\n",
    "plt.show()"
   ]
  },
  {
   "cell_type": "code",
   "execution_count": 27,
   "metadata": {},
   "outputs": [],
   "source": [
    "selected_features = ['Attorney/Representative', 'Agreement Reached', 'C-2 Delivered',\n",
    "       'Average Weekly Wage Log', 'Covid OR altr dispute', 'Industry Code',\n",
    "       'Hearing Held', 'Time Assembly to Hearing', 'IME-4 Count Log',\n",
    "       'Part of Body Group', 'C-3 Delivered on Time', 'Alternative Dispute Resolution', 'Assembly Year']\n",
    "\n",
    "# Filter datasets\n",
    "X_train_preprocessed_opt = X_train_preprocessed_opt[selected_features]\n",
    "X_val_preprocessed_opt = X_val_preprocessed_opt[selected_features]\n",
    "test_data_preprocessed_opt = test_data_preprocessed_opt[selected_features]"
   ]
  },
  {
   "cell_type": "markdown",
   "metadata": {},
   "source": [
    "**Model hyperparameter tuning:**"
   ]
  },
  {
   "cell_type": "code",
   "execution_count": 32,
   "metadata": {},
   "outputs": [
    {
     "name": "stdout",
     "output_type": "stream",
     "text": [
      "\n",
      "Classification Report Train Data:\n",
      "               precision    recall  f1-score   support\n",
      "\n",
      "           0   0.259858  0.663194  0.373405     11229\n",
      "           1   0.857215  0.873867  0.865461    261970\n",
      "           2   0.325165  0.156621  0.211412     62016\n",
      "           3   0.851776  0.515338  0.642159    133656\n",
      "           4   0.515888  0.776052  0.619774     43452\n",
      "           5   0.092188  0.795251  0.165223      3790\n",
      "           6   0.023921  1.000000  0.046724        87\n",
      "           7   0.049794  0.997636  0.094853       423\n",
      "\n",
      "    accuracy                       0.681752    516623\n",
      "   macro avg   0.371975  0.722245  0.377376    516623\n",
      "weighted avg   0.743834  0.681752  0.691913    516623\n",
      "\n",
      "\n",
      "Classification Report Validation Data:\n",
      "               precision    recall  f1-score   support\n",
      "\n",
      "           0   0.262833  0.648237  0.374018      1248\n",
      "           1   0.855172  0.875326  0.865132     29108\n",
      "           2   0.310233  0.152685  0.204649      6890\n",
      "           3   0.837943  0.505892  0.630894     14851\n",
      "           4   0.496329  0.756007  0.599245      4828\n",
      "           5   0.069854  0.579572  0.124681       421\n",
      "           6   0.000000  0.000000  0.000000        10\n",
      "           7   0.044101  0.851064  0.083857        47\n",
      "\n",
      "    accuracy                       0.675696     57403\n",
      "   macro avg   0.359558  0.546098  0.360309     57403\n",
      "weighted avg   0.735675  0.675696  0.685993     57403\n",
      "\n"
     ]
    }
   ],
   "source": [
    "# Trying previous model on new features\n",
    "\n",
    "weights = compute_sample_weight('balanced', y_train_encoded)\n",
    "\n",
    "model_xgbc_tuned = XGBClassifier(\n",
    "                           objective='multi:softmax',\n",
    "                           n_estimators = 150,\n",
    "                           max_depth = 10,\n",
    "                           learning_rate = 0.01,\n",
    "                           random_state = random_state\n",
    "                           )\n",
    "\n",
    "# Fit to train data\n",
    "model_xgbc_tuned.fit(X_train_preprocessed_opt, y_train_encoded, sample_weight=weights)\n",
    "\n",
    "y_pred_train = model_xgbc_tuned.predict(X_train_preprocessed_opt)\n",
    "y_pred_val = model_xgbc_tuned.predict(X_val_preprocessed_opt)\n",
    "\n",
    "print(\"\\nClassification Report Train Data:\\n\", classification_report(y_train_encoded, y_pred_train, digits=6))\n",
    "print(\"\\nClassification Report Validation Data:\\n\", classification_report(y_val_encoded, y_pred_val, digits=6))"
   ]
  },
  {
   "cell_type": "markdown",
   "metadata": {},
   "source": [
    "- After trying to adjust hyperparameters we concluded that the new set of features may be missing valuable variables to predict class 6, because the f1 score for that class remained zero, even after using sample weights and with previous features class 6 has predictions after sample weights were applied.\n",
    "- Class 7 also has a very low score.\n"
   ]
  },
  {
   "cell_type": "markdown",
   "metadata": {},
   "source": [
    "**SMOTE:**"
   ]
  },
  {
   "cell_type": "code",
   "execution_count": null,
   "metadata": {},
   "outputs": [
    {
     "name": "stdout",
     "output_type": "stream",
     "text": [
      "\n",
      "Classification Report Train Data:\n",
      "               precision    recall  f1-score   support\n",
      "\n",
      "           0   0.654760  0.468519  0.546200     11229\n",
      "           1   0.717087  0.958991  0.820582    261970\n",
      "           2   0.526125  0.202727  0.292678    150000\n",
      "           3   0.691244  0.604709  0.645087    133656\n",
      "           4   0.565574  0.552311  0.558864     43452\n",
      "           5   0.710487  0.707730  0.709106    100000\n",
      "           6   0.890487  0.998240  0.941290    200000\n",
      "           7   0.786953  0.862500  0.822996     10000\n",
      "\n",
      "    accuracy                       0.736856    910307\n",
      "   macro avg   0.692840  0.669466  0.667100    910307\n",
      "weighted avg   0.711964  0.736856  0.706251    910307\n",
      "\n",
      "\n",
      "Classification Report Validation Data:\n",
      "               precision    recall  f1-score   support\n",
      "\n",
      "           0   0.673660  0.463141  0.548908      1248\n",
      "           1   0.824687  0.958980  0.886778     29108\n",
      "           2   0.312484  0.179100  0.227696      6890\n",
      "           3   0.806181  0.602451  0.689583     14851\n",
      "           4   0.646108  0.538111  0.587185      4828\n",
      "           5   0.075559  0.465558  0.130017       421\n",
      "           6   0.002454  0.200000  0.004848        10\n",
      "           7   0.122727  0.574468  0.202247        47\n",
      "\n",
      "    accuracy                       0.722889     57403\n",
      "   macro avg   0.432983  0.497726  0.409658     57403\n",
      "weighted avg   0.733905  0.722889  0.717844     57403\n",
      "\n"
     ]
    }
   ],
   "source": [
    "# Applying SMOTE\n",
    "\n",
    "binary_var = ['Attorney/Representative', 'Agreement Reached', 'C-2 Delivered',\n",
    "        'Covid OR altr dispute', 'Hearing Held', 'Time Assembly to Hearing', \n",
    "        'C-3 Delivered on Time',  'Alternative Dispute Resolution']\n",
    "\n",
    "# Adjust the nº of observations for classes based on how hard they are to predict (f1 score for the class)\n",
    "sampling_strategy = {\n",
    "    2: 150000,\n",
    "    5: 100000,\n",
    "    6: 200000,\n",
    "    7: 10000,\n",
    "}\n",
    "\n",
    "smote = SMOTE(sampling_strategy=sampling_strategy, random_state=random_state)\n",
    "\n",
    "# Apply SMOTE\n",
    "X_train_smote, y_train_smote = smote.fit_resample(X_train_preprocessed_opt, y_train_encoded)\n",
    "\n",
    "model_xgbc_tuned = XGBClassifier(\n",
    "                           objective='multi:softmax',\n",
    "                           n_estimators = 150,\n",
    "                           max_depth = 10,\n",
    "                           learning_rate = 0.01,\n",
    "                           random_state = random_state\n",
    "                           )\n",
    "\n",
    "# Fit to train data\n",
    "model_xgbc_tuned.fit(X_train_smote, y_train_smote)\n",
    "\n",
    "y_pred_train = model_xgbc_tuned.predict(X_train_smote)\n",
    "y_pred_val = model_xgbc_tuned.predict(X_val_preprocessed_opt)\n",
    "\n",
    "print(\"\\nClassification Report Train Data:\\n\", classification_report(y_train_smote, y_pred_train, digits=6))\n",
    "print(\"\\nClassification Report Validation Data:\\n\", classification_report(y_val_encoded, y_pred_val, digits=6))"
   ]
  },
  {
   "cell_type": "markdown",
   "metadata": {},
   "source": [
    "- After applying smote resampling strategy the score improved and all classes were predicted but in order to get this score the model overfits.\n",
    "- We will apply the same resampling strategy to the datatset with the inicial pipeline preprocessing and feature selection to see if it improves f1 macro score."
   ]
  },
  {
   "cell_type": "code",
   "execution_count": 11,
   "metadata": {},
   "outputs": [
    {
     "name": "stdout",
     "output_type": "stream",
     "text": [
      "\n",
      "Classification Report Train Data:\n",
      "               precision    recall  f1-score   support\n",
      "\n",
      "           0   0.699747  0.345356  0.462465     11229\n",
      "           1   0.817144  0.967599  0.886030    261970\n",
      "           2   0.323897  0.181356  0.232520     62016\n",
      "           3   0.796683  0.621379  0.698195    133656\n",
      "           4   0.660136  0.542806  0.595749     43452\n",
      "           5   0.103089  0.472032  0.169221      3790\n",
      "           6   0.012094  0.977011  0.023893        87\n",
      "           7   0.177159  0.751773  0.286745       423\n",
      "\n",
      "    accuracy                       0.730583    516623\n",
      "   macro avg   0.448744  0.607414  0.419352    516623\n",
      "weighted avg   0.730985  0.730583  0.719471    516623\n",
      "\n",
      "\n",
      "Classification Report Validation Data:\n",
      "               precision    recall  f1-score   support\n",
      "\n",
      "           0   0.696574  0.342147  0.458893      1248\n",
      "           1   0.815497  0.966504  0.884602     29108\n",
      "           2   0.300716  0.164586  0.212738      6890\n",
      "           3   0.787506  0.617130  0.691985     14851\n",
      "           4   0.637133  0.530240  0.578793      4828\n",
      "           5   0.083465  0.375297  0.136560       421\n",
      "           6   0.005115  0.400000  0.010101        10\n",
      "           7   0.163158  0.659574  0.261603        47\n",
      "\n",
      "    accuracy                       0.724910     57403\n",
      "   macro avg   0.436146  0.506935  0.404409     57403\n",
      "weighted avg   0.722835  0.724910  0.713002     57403\n",
      "\n"
     ]
    }
   ],
   "source": [
    "# Applying smote to datatset preprocessed with inicial pipeline\n",
    "\n",
    "binary_var = ['Attorney/Representative', 'C-2 Delivered',\n",
    "    'Hearing Held', 'Agreement Reached', 'C-3 Delivered on Time','Part of Body Group_Trunk',\n",
    "    'Part of Body Group_Lower Extremities','District Name_NYC','Part of Body Group_Upper Extremities', \n",
    "    'Gender', 'Carrier Type_2A. SIF', 'Cause of Injury Group_X', 'Cause of Injury Group_VI']\n",
    "\n",
    "# Adjust the nº of observations for classes based on how hard they are to predict (f1 score for the class)\n",
    "sampling_strategy = {\n",
    "    2: 150000,\n",
    "    5: 100000,\n",
    "    6: 200000,\n",
    "    7: 10000,\n",
    "}\n",
    "\n",
    "smote = SMOTE(sampling_strategy=sampling_strategy, random_state=random_state)\n",
    "\n",
    "# Apply SMOTE\n",
    "X_train_smote, y_train_smote = smote.fit_resample(X_train_preprocessed, y_train_encoded)\n",
    "\n",
    "# Round binary variables after smote syntethic observations are added to the data set\n",
    "X_train_smote[binary_var] = X_train_smote[binary_var].round()\n",
    "\n",
    "\n",
    "model_xgbc_opt_2 = XGBClassifier(\n",
    "                           objective='multi:softmax',\n",
    "                           n_estimators = 150,\n",
    "                           max_depth = 10,\n",
    "                           learning_rate = 0.01,\n",
    "                           random_state = random_state\n",
    "                           )\n",
    "\n",
    "# Fit to train data\n",
    "model_xgbc_opt_2.fit(X_train_smote, y_train_smote)\n",
    "\n",
    "y_pred_train = model_xgbc_opt_2.predict(X_train_preprocessed)\n",
    "# Make predictions on validation data\n",
    "y_pred_val = model_xgbc_opt_2.predict(X_val_preprocessed)\n",
    "\n",
    "print(\"\\nClassification Report Train Data:\\n\", classification_report(y_train_encoded, y_pred_train, digits=6))\n",
    "print(\"\\nClassification Report Validation Data:\\n\", classification_report(y_val_encoded, y_pred_val, digits=6))"
   ]
  },
  {
   "cell_type": "markdown",
   "metadata": {},
   "source": [
    "- After the resampling strategy and using the initial selected features the f1 macro score impproved and the model makes predictions for all classes.\n",
    "- The train and validation scores are similar."
   ]
  },
  {
   "cell_type": "markdown",
   "metadata": {},
   "source": [
    "**Final assessement and predictions:**"
   ]
  },
  {
   "cell_type": "code",
   "execution_count": 34,
   "metadata": {},
   "outputs": [
    {
     "name": "stdout",
     "output_type": "stream",
     "text": [
      "Cross-validation scores (F1-macro): [0.40024773 0.40698883 0.40076974 0.40426626 0.39658768]\n",
      "Mean CV score: 0.4017720470503418\n"
     ]
    }
   ],
   "source": [
    "# Cross-validation\n",
    "kf = StratifiedKFold(n_splits=5, shuffle=True, random_state=random_state)\n",
    "\n",
    "# Encode the target \n",
    "label_encoder = LabelEncoder()\n",
    "y_encoded = label_encoder.fit_transform(y)\n",
    "\n",
    "binary_var = ['Attorney/Representative', 'C-2 Delivered',\n",
    "    'Hearing Held', 'Agreement Reached', 'C-3 Delivered on Time','Part of Body Group_Trunk',\n",
    "    'Part of Body Group_Lower Extremities','District Name_NYC','Part of Body Group_Upper Extremities', \n",
    "    'Gender', 'Carrier Type_2A. SIF', 'Cause of Injury Group_X', 'Cause of Injury Group_VI']\n",
    "\n",
    "sampling_strategy = {\n",
    "    2: 150000,\n",
    "    5: 100000,\n",
    "    6: 200000,\n",
    "    7: 10000,\n",
    "}\n",
    "\n",
    "smote = SMOTE(sampling_strategy=sampling_strategy, random_state=random_state)\n",
    "\n",
    "# Store scores for each fold\n",
    "cv_scores = []\n",
    "\n",
    "for train_idx, val_idx in kf.split(X, y_encoded):\n",
    "    \n",
    "    # Data for the current split\n",
    "    X_train_cv, X_val_cv = X.iloc[train_idx], X.iloc[val_idx]\n",
    "    y_train_cv, y_val_cv = y_encoded[train_idx], y_encoded[val_idx]\n",
    "\n",
    "    # Preprocess training and validation sets\n",
    "    X_train_cv_preprocessed = pipeline.fit_transform(X_train_cv, y_train_cv)\n",
    "    X_val_cv_preprocessed = pipeline.transform(X_val_cv)\n",
    "\n",
    "    # Apply SMOTE\n",
    "    X_train_smote_cv, y_train_smote_cv = smote.fit_resample(X_train_cv_preprocessed, y_train_cv)\n",
    "\n",
    "    # Round binary variables after smote syntethic observations are added to the data set\n",
    "    X_train_smote[binary_var] = X_train_smote[binary_var].round()\n",
    "\n",
    "    # Fit the predefined model\n",
    "    model_xgbc_opt_2.fit(X_train_smote_cv, y_train_smote_cv)\n",
    "\n",
    "    # Predict and evaluate\n",
    "    y_pred_cv = model_xgbc_opt_2.predict(X_val_cv_preprocessed)\n",
    "    f1 = f1_score(y_val_cv, y_pred_cv, average='macro')\n",
    "\n",
    "    cv_scores.append(f1)\n",
    "\n",
    "# Convert scores to a NumPy array for easier calculations\n",
    "cv_scores = np.array(cv_scores)\n",
    "\n",
    "# Print the results\n",
    "print(\"Cross-validation scores (F1-macro):\", cv_scores)\n",
    "print(\"Mean CV score:\", cv_scores.mean())"
   ]
  },
  {
   "cell_type": "markdown",
   "metadata": {},
   "source": [
    "- The f1 macro score is consistent across folds and reached 0.4018 f1 macro on average."
   ]
  },
  {
   "cell_type": "markdown",
   "metadata": {},
   "source": [
    "**Predictions for test using all train dataset:**"
   ]
  },
  {
   "cell_type": "code",
   "execution_count": 24,
   "metadata": {},
   "outputs": [],
   "source": [
    "binary_var_X = ['Attorney/Representative', 'Agreement Reached', 'C-2 Delivered','Covid OR altr dispute','Hearing Held', 'C-3 Delivered on Time', 'Alternative Dispute Resolution']\n",
    "\n",
    "# Encode target\n",
    "y_encoded = label_encoder.fit_transform(y)\n",
    "\n",
    "# Fit pipeline on X and apply tranformations\n",
    "X_preprocessed = pipeline.fit_transform(X, y_encoded)\n",
    "\n",
    "# Apply pipeline fitted on X\n",
    "test_data_preprocessed_X = pipeline.transform(test_transformed_agreement)\n",
    "\n",
    "# Apply SMOTE\n",
    "X_smote, y_smote = smote.fit_resample(X_preprocessed, y_encoded)\n",
    "\n",
    "# Round binary variables after smote syntethic observations are added to the data set\n",
    "X_smote[binary_var_X] = X_smote[binary_var_X].round()\n",
    "\n",
    "# Fit on X \n",
    "model_xgbc_opt_2.fit(X_smote,y_smote)\n",
    "\n",
    "# Make predictions on test data\n",
    "y_pred = model_xgbc_opt_2.predict(test_data_preprocessed_X)\n",
    "\n",
    "# Get original y for submission\n",
    "y_pred_categorical = label_encoder.inverse_transform(y_pred) \n",
    "\n",
    "submission = pd.DataFrame({\n",
    "    \"Claim Identifier\": test_data_preprocessed_X.index,\n",
    "    \"Claim Injury Type\": y_pred_categorical\n",
    "})\n",
    "\n",
    "# Save to CSV to upload on kaggle\n",
    "submission.to_csv(\"Group46_versionX.csv\", index=False)"
   ]
  },
  {
   "cell_type": "markdown",
   "metadata": {},
   "source": [
    "Kaggle score on test: 0.36978"
   ]
  }
 ],
 "metadata": {
  "colab": {
   "collapsed_sections": [
    "MqbFmKvxoroF",
    "BL9oVLaT6fER",
    "WVnubShx6mP0",
    "Al0mdDUBoroL",
    "6JjINtuHoroN",
    "akZH_ydMoroO",
    "hcJOdUk1K1kz",
    "6bzFiE2BoroR",
    "XAVSrcx5oroU",
    "TpNi7Q5ioroU",
    "c3wplzqvoroU",
    "wBA2IAMcoroV",
    "FFzpmY9KQPDs",
    "QILO2RwcAxwV",
    "qJDNJDf4BUYd",
    "HMW-CmnSoroX",
    "kkH3JUYYE4VW",
    "ADZcJgYioroX",
    "nZeA99aHGzTQ",
    "z9PEn_R5NjdK"
   ],
   "provenance": []
  },
  "kernelspec": {
   "display_name": "ml_project",
   "language": "python",
   "name": "ml_project"
  },
  "language_info": {
   "codemirror_mode": {
    "name": "ipython",
    "version": 3
   },
   "file_extension": ".py",
   "mimetype": "text/x-python",
   "name": "python",
   "nbconvert_exporter": "python",
   "pygments_lexer": "ipython3",
   "version": "3.12.2"
  }
 },
 "nbformat": 4,
 "nbformat_minor": 0
}
